{
 "cells": [
  {
   "cell_type": "code",
   "execution_count": 1,
   "id": "eb9031a2-d57d-43c8-878e-4fdc03d0dcfc",
   "metadata": {},
   "outputs": [
    {
     "name": "stdout",
     "output_type": "stream",
     "text": [
      "Collecting llama-cpp-python\n",
      "  Downloading llama_cpp_python-0.2.90.tar.gz (63.8 MB)\n",
      "\u001b[2K     \u001b[90m━━━━━━━━━━━━━━━━━━━━━━━━━━━━━━━━━━━━━━━━\u001b[0m \u001b[32m63.8/63.8 MB\u001b[0m \u001b[31m22.7 MB/s\u001b[0m eta \u001b[36m0:00:00\u001b[0m00:01\u001b[0m00:01\u001b[0m\n",
      "\u001b[?25h  Installing build dependencies ... \u001b[?25ldone\n",
      "\u001b[?25h  Getting requirements to build wheel ... \u001b[?25ldone\n",
      "\u001b[?25h  Installing backend dependencies ... \u001b[?25ldone\n",
      "\u001b[?25h  Preparing metadata (pyproject.toml) ... \u001b[?25ldone\n",
      "\u001b[?25hRequirement already satisfied: typing-extensions>=4.5.0 in ./.local/lib/python3.10/site-packages (from llama-cpp-python) (4.12.2)\n",
      "Requirement already satisfied: numpy>=1.20.0 in /usr/local/lib/python3.10/site-packages (from llama-cpp-python) (1.26.4)\n",
      "Collecting diskcache>=5.6.1 (from llama-cpp-python)\n",
      "  Downloading diskcache-5.6.3-py3-none-any.whl.metadata (20 kB)\n",
      "Requirement already satisfied: jinja2>=2.11.3 in /usr/local/lib/python3.10/site-packages (from llama-cpp-python) (3.1.3)\n",
      "Requirement already satisfied: MarkupSafe>=2.0 in /usr/local/lib/python3.10/site-packages (from jinja2>=2.11.3->llama-cpp-python) (2.1.2)\n",
      "Downloading diskcache-5.6.3-py3-none-any.whl (45 kB)\n",
      "\u001b[2K   \u001b[90m━━━━━━━━━━━━━━━━━━━━━━━━━━━━━━━━━━━━━━━━\u001b[0m \u001b[32m45.5/45.5 kB\u001b[0m \u001b[31m470.6 kB/s\u001b[0m eta \u001b[36m0:00:00\u001b[0ma \u001b[36m0:00:01\u001b[0m\n",
      "\u001b[?25hBuilding wheels for collected packages: llama-cpp-python\n",
      "  Building wheel for llama-cpp-python (pyproject.toml) ... \u001b[?25ldone\n",
      "\u001b[?25h  Created wheel for llama-cpp-python: filename=llama_cpp_python-0.2.90-cp310-cp310-linux_x86_64.whl size=3302203 sha256=2d40e111f232c70fad26c51e6781653da814692706c3a01e3f22de26e945fa05\n",
      "  Stored in directory: /home/cdsw/.cache/pip/wheels/3d/67/02/f950031435db4a5a02e6269f6adb6703bf1631c3616380f3c6\n",
      "Successfully built llama-cpp-python\n",
      "Installing collected packages: diskcache, llama-cpp-python\n",
      "Successfully installed diskcache-5.6.3 llama-cpp-python-0.2.90\n"
     ]
    }
   ],
   "source": [
    "#!pip install llama-cpp-python"
   ]
  },
  {
   "cell_type": "code",
   "execution_count": 1,
   "id": "ced350df-fa9c-4dcf-8544-2dc113b1e359",
   "metadata": {},
   "outputs": [
    {
     "name": "stderr",
     "output_type": "stream",
     "text": [
      "/home/cdsw/.local/lib/python3.10/site-packages/tqdm/auto.py:21: TqdmWarning: IProgress not found. Please update jupyter and ipywidgets. See https://ipywidgets.readthedocs.io/en/stable/user_install.html\n",
      "  from .autonotebook import tqdm as notebook_tqdm\n",
      "Fetching 15 files: 100%|███████████████████████| 15/15 [00:00<00:00, 246.46it/s]"
     ]
    },
    {
     "name": "stdout",
     "output_type": "stream",
     "text": [
      "Model downloaded to: /home/cdsw/.cache/huggingface/hub/models--TheBloke--Karen_TheEditor_V2_STRICT_Mistral_7B-GGUF/snapshots/6c654aa207a4b673379db7a928b87a01d644676c\n"
     ]
    },
    {
     "name": "stderr",
     "output_type": "stream",
     "text": [
      "\n"
     ]
    }
   ],
   "source": [
    "from huggingface_hub import snapshot_download\n",
    "\n",
    "# Download the GGUF model from Hugging Face\n",
    "model_dir = snapshot_download(repo_id=\"TheBloke/Karen_TheEditor_V2_STRICT_Mistral_7B-GGUF\")\n",
    "print(f\"Model downloaded to: {model_dir}\")\n"
   ]
  },
  {
   "cell_type": "code",
   "execution_count": 1,
   "id": "9623f661-e4e9-4f79-96c3-39f35c5674f3",
   "metadata": {},
   "outputs": [],
   "source": [
    "#START HERE WHEN MODEL IS ALREADy aVAILABLE\n",
    "from llama_cpp import Llama\n",
    "model_path = \"/home/cdsw/.cache/huggingface/hub/models--TheBloke--Karen_TheEditor_V2_STRICT_Mistral_7B-GGUF/snapshots/6c654aa207a4b673379db7a928b87a01d644676c/karen_theeditor_v2_strict_mistral_7b.Q8_0.gguf\""
   ]
  },
  {
   "cell_type": "code",
   "execution_count": 2,
   "id": "b328320a-5cb3-4a9e-8c5e-80848e489fd4",
   "metadata": {},
   "outputs": [
    {
     "name": "stdout",
     "output_type": "stream",
     "text": [
      "Sun Sep 15 09:17:07 2024       \n",
      "+---------------------------------------------------------------------------------------+\n",
      "| NVIDIA-SMI 535.183.06             Driver Version: 535.183.06   CUDA Version: 12.3     |\n",
      "|-----------------------------------------+----------------------+----------------------+\n",
      "| GPU  Name                 Persistence-M | Bus-Id        Disp.A | Volatile Uncorr. ECC |\n",
      "| Fan  Temp   Perf          Pwr:Usage/Cap |         Memory-Usage | GPU-Util  Compute M. |\n",
      "|                                         |                      |               MIG M. |\n",
      "|=========================================+======================+======================|\n",
      "|   0  Tesla V100-SXM2-16GB           On  | 00000000:00:1C.0 Off |                    0 |\n",
      "| N/A   40C    P0              37W / 300W |      0MiB / 16384MiB |      0%      Default |\n",
      "|                                         |                      |                  N/A |\n",
      "+-----------------------------------------+----------------------+----------------------+\n",
      "                                                                                         \n",
      "+---------------------------------------------------------------------------------------+\n",
      "| Processes:                                                                            |\n",
      "|  GPU   GI   CI        PID   Type   Process name                            GPU Memory |\n",
      "|        ID   ID                                                             Usage      |\n",
      "|=======================================================================================|\n",
      "|  No running processes found                                                           |\n",
      "+---------------------------------------------------------------------------------------+\n"
     ]
    }
   ],
   "source": [
    "!nvidia-smi"
   ]
  },
  {
   "cell_type": "code",
   "execution_count": 3,
   "id": "6f6936c4-d3f8-45fb-9116-8c5d3b517c65",
   "metadata": {},
   "outputs": [
    {
     "name": "stderr",
     "output_type": "stream",
     "text": [
      "llama_model_loader: loaded meta data with 23 key-value pairs and 291 tensors from /home/cdsw/.cache/huggingface/hub/models--TheBloke--Karen_TheEditor_V2_STRICT_Mistral_7B-GGUF/snapshots/6c654aa207a4b673379db7a928b87a01d644676c/karen_theeditor_v2_strict_mistral_7b.Q8_0.gguf (version GGUF V3 (latest))\n",
      "llama_model_loader: Dumping metadata keys/values. Note: KV overrides do not apply in this output.\n",
      "llama_model_loader: - kv   0:                       general.architecture str              = llama\n",
      "llama_model_loader: - kv   1:                               general.name str              = fpham_karen_theeditor_v2_strict_mistr...\n",
      "llama_model_loader: - kv   2:                       llama.context_length u32              = 32768\n",
      "llama_model_loader: - kv   3:                     llama.embedding_length u32              = 4096\n",
      "llama_model_loader: - kv   4:                          llama.block_count u32              = 32\n",
      "llama_model_loader: - kv   5:                  llama.feed_forward_length u32              = 14336\n",
      "llama_model_loader: - kv   6:                 llama.rope.dimension_count u32              = 128\n",
      "llama_model_loader: - kv   7:                 llama.attention.head_count u32              = 32\n",
      "llama_model_loader: - kv   8:              llama.attention.head_count_kv u32              = 8\n",
      "llama_model_loader: - kv   9:     llama.attention.layer_norm_rms_epsilon f32              = 0.000010\n",
      "llama_model_loader: - kv  10:                       llama.rope.freq_base f32              = 10000.000000\n",
      "llama_model_loader: - kv  11:                          general.file_type u32              = 7\n",
      "llama_model_loader: - kv  12:                       tokenizer.ggml.model str              = llama\n",
      "llama_model_loader: - kv  13:                      tokenizer.ggml.tokens arr[str,32002]   = [\"<unk>\", \"<s>\", \"</s>\", \"<0x00>\", \"<...\n",
      "llama_model_loader: - kv  14:                      tokenizer.ggml.scores arr[f32,32002]   = [0.000000, 0.000000, 0.000000, 0.0000...\n",
      "llama_model_loader: - kv  15:                  tokenizer.ggml.token_type arr[i32,32002]   = [2, 3, 3, 6, 6, 6, 6, 6, 6, 6, 6, 6, ...\n",
      "llama_model_loader: - kv  16:                tokenizer.ggml.bos_token_id u32              = 1\n",
      "llama_model_loader: - kv  17:                tokenizer.ggml.eos_token_id u32              = 32000\n",
      "llama_model_loader: - kv  18:            tokenizer.ggml.padding_token_id u32              = 0\n",
      "llama_model_loader: - kv  19:               tokenizer.ggml.add_bos_token bool             = true\n",
      "llama_model_loader: - kv  20:               tokenizer.ggml.add_eos_token bool             = false\n",
      "llama_model_loader: - kv  21:                    tokenizer.chat_template str              = {% if not add_generation_prompt is de...\n",
      "llama_model_loader: - kv  22:               general.quantization_version u32              = 2\n",
      "llama_model_loader: - type  f32:   65 tensors\n",
      "llama_model_loader: - type q8_0:  226 tensors\n",
      "llm_load_vocab: special tokens cache size = 5\n",
      "llm_load_vocab: token to piece cache size = 0.1637 MB\n",
      "llm_load_print_meta: format           = GGUF V3 (latest)\n",
      "llm_load_print_meta: arch             = llama\n",
      "llm_load_print_meta: vocab type       = SPM\n",
      "llm_load_print_meta: n_vocab          = 32002\n",
      "llm_load_print_meta: n_merges         = 0\n",
      "llm_load_print_meta: vocab_only       = 0\n",
      "llm_load_print_meta: n_ctx_train      = 32768\n",
      "llm_load_print_meta: n_embd           = 4096\n",
      "llm_load_print_meta: n_layer          = 32\n",
      "llm_load_print_meta: n_head           = 32\n",
      "llm_load_print_meta: n_head_kv        = 8\n",
      "llm_load_print_meta: n_rot            = 128\n",
      "llm_load_print_meta: n_swa            = 0\n",
      "llm_load_print_meta: n_embd_head_k    = 128\n",
      "llm_load_print_meta: n_embd_head_v    = 128\n",
      "llm_load_print_meta: n_gqa            = 4\n",
      "llm_load_print_meta: n_embd_k_gqa     = 1024\n",
      "llm_load_print_meta: n_embd_v_gqa     = 1024\n",
      "llm_load_print_meta: f_norm_eps       = 0.0e+00\n",
      "llm_load_print_meta: f_norm_rms_eps   = 1.0e-05\n",
      "llm_load_print_meta: f_clamp_kqv      = 0.0e+00\n",
      "llm_load_print_meta: f_max_alibi_bias = 0.0e+00\n",
      "llm_load_print_meta: f_logit_scale    = 0.0e+00\n",
      "llm_load_print_meta: n_ff             = 14336\n",
      "llm_load_print_meta: n_expert         = 0\n",
      "llm_load_print_meta: n_expert_used    = 0\n",
      "llm_load_print_meta: causal attn      = 1\n",
      "llm_load_print_meta: pooling type     = 0\n",
      "llm_load_print_meta: rope type        = 0\n",
      "llm_load_print_meta: rope scaling     = linear\n",
      "llm_load_print_meta: freq_base_train  = 10000.0\n",
      "llm_load_print_meta: freq_scale_train = 1\n",
      "llm_load_print_meta: n_ctx_orig_yarn  = 32768\n",
      "llm_load_print_meta: rope_finetuned   = unknown\n",
      "llm_load_print_meta: ssm_d_conv       = 0\n",
      "llm_load_print_meta: ssm_d_inner      = 0\n",
      "llm_load_print_meta: ssm_d_state      = 0\n",
      "llm_load_print_meta: ssm_dt_rank      = 0\n",
      "llm_load_print_meta: ssm_dt_b_c_rms   = 0\n",
      "llm_load_print_meta: model type       = 7B\n",
      "llm_load_print_meta: model ftype      = Q8_0\n",
      "llm_load_print_meta: model params     = 7.24 B\n",
      "llm_load_print_meta: model size       = 7.17 GiB (8.50 BPW) \n",
      "llm_load_print_meta: general.name     = fpham_karen_theeditor_v2_strict_mistral_7b\n",
      "llm_load_print_meta: BOS token        = 1 '<s>'\n",
      "llm_load_print_meta: EOS token        = 32000 '<|im_end|>'\n",
      "llm_load_print_meta: UNK token        = 0 '<unk>'\n",
      "llm_load_print_meta: PAD token        = 0 '<unk>'\n",
      "llm_load_print_meta: LF token         = 13 '<0x0A>'\n",
      "llm_load_print_meta: EOT token        = 32000 '<|im_end|>'\n",
      "llm_load_print_meta: max token length = 48\n",
      "llm_load_tensors: ggml ctx size =    0.14 MiB\n",
      "llm_load_tensors:        CPU buffer size =  7338.66 MiB\n",
      "...................................................................................................\n",
      "llama_new_context_with_model: n_ctx      = 16384\n",
      "llama_new_context_with_model: n_batch    = 512\n",
      "llama_new_context_with_model: n_ubatch   = 512\n",
      "llama_new_context_with_model: flash_attn = 0\n",
      "llama_new_context_with_model: freq_base  = 10000.0\n",
      "llama_new_context_with_model: freq_scale = 1\n",
      "llama_kv_cache_init:        CPU KV buffer size =  2048.00 MiB\n",
      "llama_new_context_with_model: KV self size  = 2048.00 MiB, K (f16): 1024.00 MiB, V (f16): 1024.00 MiB\n",
      "llama_new_context_with_model:        CPU  output buffer size =     0.12 MiB\n",
      "llama_new_context_with_model:        CPU compute buffer size =  1088.01 MiB\n",
      "llama_new_context_with_model: graph nodes  = 1030\n",
      "llama_new_context_with_model: graph splits = 1\n",
      "AVX = 1 | AVX_VNNI = 0 | AVX2 = 1 | AVX512 = 0 | AVX512_VBMI = 0 | AVX512_VNNI = 0 | AVX512_BF16 = 0 | FMA = 1 | NEON = 0 | SVE = 0 | ARM_FMA = 0 | F16C = 1 | FP16_VA = 0 | WASM_SIMD = 0 | BLAS = 0 | SSE3 = 1 | SSSE3 = 1 | VSX = 0 | MATMUL_INT8 = 0 | LLAMAFILE = 1 | \n",
      "Model metadata: {'tokenizer.chat_template': \"{% if not add_generation_prompt is defined %}{% set add_generation_prompt = false %}{% endif %}{% for message in messages %}{{'<|im_start|>' + message['role'] + '\\n' + message['content'] + '<|im_end|>' + '\\n'}}{% endfor %}{% if add_generation_prompt %}{{ '<|im_start|>assistant\\n' }}{% endif %}\", 'tokenizer.ggml.add_eos_token': 'false', 'tokenizer.ggml.padding_token_id': '0', 'tokenizer.ggml.eos_token_id': '32000', 'general.architecture': 'llama', 'llama.rope.freq_base': '10000.000000', 'llama.context_length': '32768', 'general.name': 'fpham_karen_theeditor_v2_strict_mistral_7b', 'tokenizer.ggml.add_bos_token': 'true', 'llama.embedding_length': '4096', 'llama.feed_forward_length': '14336', 'llama.attention.layer_norm_rms_epsilon': '0.000010', 'llama.rope.dimension_count': '128', 'tokenizer.ggml.bos_token_id': '1', 'llama.attention.head_count': '32', 'llama.block_count': '32', 'llama.attention.head_count_kv': '8', 'general.quantization_version': '2', 'tokenizer.ggml.model': 'llama', 'general.file_type': '7'}\n",
      "Available chat formats from metadata: chat_template.default\n",
      "Using gguf chat template: {% if not add_generation_prompt is defined %}{% set add_generation_prompt = false %}{% endif %}{% for message in messages %}{{'<|im_start|>' + message['role'] + '\n",
      "' + message['content'] + '<|im_end|>' + '\n",
      "'}}{% endfor %}{% if add_generation_prompt %}{{ '<|im_start|>assistant\n",
      "' }}{% endif %}\n",
      "Using chat eos_token: <|im_end|>\n",
      "Using chat bos_token: <s>\n"
     ]
    }
   ],
   "source": [
    "# GPU Memory is 16384MiB \n",
    "\n",
    "# Initialize the model with GPU support\n",
    "llm = Llama(\n",
    "    model_path=model_path,\n",
    "    n_gpu_layers=-1,  # -1 means use all available GPU layers\n",
    "    n_ctx=16384,  # adjust based on your GPU memory\n",
    ")\n"
   ]
  },
  {
   "cell_type": "code",
   "execution_count": 12,
   "id": "961392fa-fc9b-43a1-84c5-fb6d41d14533",
   "metadata": {},
   "outputs": [
    {
     "name": "stderr",
     "output_type": "stream",
     "text": [
      "Llama.generate: 24 prefix-match hit, remaining 306 prompt tokens to eval\n",
      "\n",
      "llama_print_timings:        load time =    8396.88 ms\n",
      "llama_print_timings:      sample time =      67.08 ms /   100 runs   (    0.67 ms per token,  1490.67 tokens per second)\n",
      "llama_print_timings: prompt eval time =    8982.39 ms /   306 tokens (   29.35 ms per token,    34.07 tokens per second)\n",
      "llama_print_timings:        eval time =   30097.63 ms /    99 runs   (  304.02 ms per token,     3.29 tokens per second)\n",
      "llama_print_timings:       total time =   39255.01 ms /   405 tokens\n"
     ]
    },
    {
     "name": "stdout",
     "output_type": "stream",
     "text": [
      "Corrected text: <|system|>You are a document reviewer reviewing official Documents in English written in Australian English and, \n",
      "               need to follow the following instructions to review and correct a text. \n",
      "               Please correct the spelling and grammatical errors in the following text. \n",
      "               Please use Australian English instead of American English for correcting spellings. \n",
      "               For example color gets corrected to colour, favor to favour and rationalize to rationalise and \n",
      "               rationalize should be spelt as rationalise  \n",
      "               Fix extra spaces if they have been created between words. \n",
      "               Do not leave a space between a numeral and a symbol)(or lettter) in expressions using currency symbols or a percentage sign \n",
      "               for example 5  % should be 5% and 2 nd show be 2nd \n",
      "               Please add a list of corrections made at the end for me to review the corrections               |end|>\n",
      "<|user|>I saw a smaple product. These products is below expected quality. I start to understand what he said is quite     right. The correct value is 12.5  % and 3   rd position. The time is 10:30 am                    The length of the object is 845 mm and cost $1m. The sunrise happens at 0750 EST and visibily is 35 km. The right way to summarize and favor some advisors is still to be found<|end|>\n",
      "<|assistant|>I saw a sample product. These products are below expected quality. I start to understand what he said is quite right. The correct value is 12.5% and the 3rd position. The time is 10:30 am. The length of the object is 845 mm and costs $1m. The sunrise happens at 0750 EST and visibility is 35 km. The right way to summarize and favor some advisors\n"
     ]
    }
   ],
   "source": [
    "import time\n",
    "text_to_correct = 'I saw a smaple product. These products is below expected quality. I start to understand what he said is quite     right. The correct value is 12.5  % and 3   rd position. The time is 10:30 am \\\n",
    "                   The length of the object is 845 mm and cost $1m. The sunrise happens at 0750 EST and visibily is 35 km. The right way to summarize and favor some advisors is still to be found'\n",
    "\n",
    "# ChatML formatted input\n",
    "prompt = f\"<|system|>You are a document reviewer reviewing official Documents in English written in Australian English and, \\n \\\n",
    "              need to follow the following instructions to review and correct a text. \\n \\\n",
    "              Please correct the spelling and grammatical errors in the following text. \\n \\\n",
    "              Please use Australian English instead of American English for correcting spellings. \\n \\\n",
    "              For example color gets corrected to colour, favor to favour and rationalize to rationalise and \\n \\\n",
    "              rationalize should be spelt as rationalise  \\n \\\n",
    "              Fix extra spaces if they have been created between words. \\n \\\n",
    "              Do not leave a space between a numeral and a symbol)(or lettter) in expressions using currency symbols or a percentage sign \\n \\\n",
    "              for example 5  % should be 5% and 2 nd show be 2nd \\n \\\n",
    "              Please add a list of corrections made at the end for me to review the corrections \\\n",
    "              |end|>\\n\" \\\n",
    "             f\"<|user|>{text_to_correct}<|end|>\\n\" \\\n",
    "             f\"<|assistant|>\"\n",
    "\n",
    "start_time = time.time()\n",
    "output = llm(\n",
    "    prompt,\n",
    "    max_tokens=100,\n",
    "    temperature=0.7,\n",
    "    top_p=0.1,\n",
    "    top_k=40,\n",
    "    repeat_penalty=1.18,  # Note: llama-cpp-python uses 'repeat_penalty' instead of 'repetition_penalty'\n",
    "    echo=True\n",
    ")\n",
    "end_time = time.time()\n",
    "\n",
    "print(\"Corrected text:\", output['choices'][0]['text'].strip())\n",
    "print(\"time taken : \", end_time-start_time)"
   ]
  },
  {
   "cell_type": "code",
   "execution_count": 13,
   "id": "afd04165-ace8-46e6-a8fb-0343d5b159df",
   "metadata": {},
   "outputs": [
    {
     "name": "stdout",
     "output_type": "stream",
     "text": [
      "time taken :  39.262917280197144\n"
     ]
    }
   ],
   "source": [
    "print(\"time taken : \", end_time-start_time)"
   ]
  },
  {
   "cell_type": "code",
   "execution_count": 12,
   "id": "b53b526a-fd4a-4ae6-b694-1683d45acbab",
   "metadata": {},
   "outputs": [
    {
     "name": "stderr",
     "output_type": "stream",
     "text": [
      "Llama.generate: 272 prefix-match hit, remaining 1 prompt tokens to eval\n",
      "\n",
      "llama_print_timings:        load time =   13643.17 ms\n",
      "llama_print_timings:      sample time =      70.61 ms /   107 runs   (    0.66 ms per token,  1515.39 tokens per second)\n",
      "llama_print_timings: prompt eval time =       0.00 ms /     0 tokens (    -nan ms per token,     -nan tokens per second)\n",
      "llama_print_timings:        eval time =   14363.74 ms /   107 runs   (  134.24 ms per token,     7.45 tokens per second)\n",
      "llama_print_timings:       total time =   14527.34 ms /   107 tokens\n"
     ]
    },
    {
     "name": "stdout",
     "output_type": "stream",
     "text": [
      "I saw a sample product. These products are below expected quality. I start to understand what he said is quite right. The correct value is 12.5% and the 3rd position. The time is 10:30 am. The length of the object is 845 mm and costs $1m. The sunrise happens at 0750 EST and visibility is 35 km. The right way to summarize and favor some advisors is still to be found.\n"
     ]
    }
   ],
   "source": [
    "# ChatML formatted prompt\n",
    "# prompt = (\n",
    "#     \"<|system|>You are an assistant that corrects spelling and grammatical errors in text and lists the corrections made.<|end|>\\n\"\n",
    "#     \"<|user|>\\n\"\n",
    "#     \"Please correct the spelling and grammatical errors in the following text and provide a list of the changes made for review. Only show the corrections.\\n\\n\"\n",
    "#     \"Original text: 'This is a smaple sentence with errors.'\\n\"\n",
    "#     \"<|end|>\\n\"\n",
    "#     \"<|assistant|>\\n\"\n",
    "# )\n",
    "\n",
    "text_to_correct = 'I saw a smaple product. These products is below expected quality. I start to understand what he said is quite     right. The correct value is 12.5  % and 3   rd position. The time is 10:30 am \\\n",
    "                   The length of the object is 845 mm and cost $1m. The sunrise happens at 0750 EST and visibily is 35 km. The right way to summarize and favor some advisors is still to be found'\n",
    "\n",
    "# ChatML formatted input\n",
    "prompt = f\"<|system|>You are a assistant reviewing official Documents in English written in Australian English and, \\n \\\n",
    "              need to follow the following instructions to review and correct a text passage\\n \\\n",
    "              Please correct the spelling and grammatical errors in the following text. \\n \\\n",
    "              Please provide a list of changes made for the review \\n \\\n",
    "              Fix extra spaces if they have been created between words. \\n \\\n",
    "              Do not leave a space between a numeral and a symbol)(or lettter) in expressions using currency symbols or a percentage sign \\n \\\n",
    "              for example 5  % should be 5% and 2 nd show be 2nd \\n \\\n",
    "              |end|>\\n\" \\\n",
    "             f\"<|user|>{text_to_correct}<|end|>\\n\" \\\n",
    "             f\"<|assistant|>\"\n",
    "\n",
    "\n",
    "# Generate the output using the model\n",
    "output = llm(prompt, max_tokens=150, temperature=0.7, top_p=0.1, top_k=40, repeat_penalty=1.18)\n",
    "\n",
    "# Print the list of corrections\n",
    "print(output['choices'][0]['text'].strip())\n"
   ]
  },
  {
   "cell_type": "code",
   "execution_count": 13,
   "id": "5df7d6a3-c8c4-4a0d-87f5-ee244ec83e70",
   "metadata": {},
   "outputs": [
    {
     "name": "stdout",
     "output_type": "stream",
     "text": [
      "{'id': 'cmpl-89b1f147-6d48-409a-8808-1397923043ba', 'object': 'text_completion', 'created': 1726392654, 'model': '/home/cdsw/.cache/huggingface/hub/models--TheBloke--Karen_TheEditor_V2_STRICT_Mistral_7B-GGUF/snapshots/6c654aa207a4b673379db7a928b87a01d644676c/karen_theeditor_v2_strict_mistral_7b.Q8_0.gguf', 'choices': [{'text': 'I saw a sample product. These products are below expected quality. I start to understand what he said is quite right. The correct value is 12.5% and the 3rd position. The time is 10:30 am. The length of the object is 845 mm and costs $1m. The sunrise happens at 0750 EST and visibility is 35 km. The right way to summarize and favor some advisors is still to be found.', 'index': 0, 'logprobs': None, 'finish_reason': 'stop'}], 'usage': {'prompt_tokens': 273, 'completion_tokens': 106, 'total_tokens': 379}}\n"
     ]
    }
   ],
   "source": [
    "print(output)"
   ]
  },
  {
   "cell_type": "code",
   "execution_count": 16,
   "id": "66fa97d6-7dde-4ac9-8a36-6f1f3b2b2fdb",
   "metadata": {},
   "outputs": [
    {
     "name": "stderr",
     "output_type": "stream",
     "text": [
      "Llama.generate: 83 prefix-match hit, remaining 24 prompt tokens to eval\n",
      "\n",
      "llama_print_timings:        load time =   13643.17 ms\n",
      "llama_print_timings:      sample time =      43.05 ms /    65 runs   (    0.66 ms per token,  1510.01 tokens per second)\n",
      "llama_print_timings: prompt eval time =    3527.39 ms /    24 tokens (  146.97 ms per token,     6.80 tokens per second)\n",
      "llama_print_timings:        eval time =    8754.77 ms /    64 runs   (  136.79 ms per token,     7.31 tokens per second)\n",
      "llama_print_timings:       total time =   12379.79 ms /    88 tokens\n"
     ]
    },
    {
     "name": "stdout",
     "output_type": "stream",
     "text": [
      "Corrected text: \"This is a sample sentence with lots of errors and spaces.\"\n",
      "List of changes made:\n",
      "1. Replaced \"smaple\" with \"sample\"\n",
      "2. Removed extra space after \"lots\"\n",
      "3. Changed \"errs\" to \"errors\"\n"
     ]
    }
   ],
   "source": [
    "\n",
    "sentence_to_correct = \"This is a smaple sentence with           lots  of      errs and spaces\"\n",
    "prompt = (\n",
    "    \"<|system|>You are an assistant that corrects spelling and grammatical errors in text and lists the corrections made.<|end|>\\n\"\n",
    "    \"<|user|>\\n\"\n",
    "    f\"Please correct the spelling and grammatical errors in the following text and provide a list of the changes made for review. Only show the corrections.\\n\\n\"\n",
    "    f\"Original text: '{sentence_to_correct}'\\n\"\n",
    "    \"<|end|>\\n\"\n",
    "    \"<|assistant|>\\n\"\n",
    ")\n",
    "# Generate the output using the model\n",
    "output = llm(prompt, max_tokens=150, temperature=0.7, top_p=0.1, top_k=40, repeat_penalty=1.18)\n",
    "# Print the list of corrections\n",
    "print(output['choices'][0]['text'].strip())"
   ]
  },
  {
   "cell_type": "code",
   "execution_count": 58,
   "id": "08f884f4-7158-4bc1-b9d9-0ba682f0369c",
   "metadata": {},
   "outputs": [
    {
     "name": "stderr",
     "output_type": "stream",
     "text": [
      "Llama.generate: 11 prefix-match hit, remaining 203 prompt tokens to eval\n",
      "\n",
      "llama_print_timings:        load time =   13643.17 ms\n",
      "llama_print_timings:      sample time =     150.62 ms /   217 runs   (    0.69 ms per token,  1440.73 tokens per second)\n",
      "llama_print_timings: prompt eval time =    9536.25 ms /   203 tokens (   46.98 ms per token,    21.29 tokens per second)\n",
      "llama_print_timings:        eval time =   30003.70 ms /   216 runs   (  138.91 ms per token,     7.20 tokens per second)\n",
      "llama_print_timings:       total time =   39920.93 ms /   419 tokens\n"
     ]
    },
    {
     "name": "stdout",
     "output_type": "stream",
     "text": [
      "ORIGINIAL TEXT : #########  \n",
      " I saw a smaple product. These products is below expected quality. \n",
      " I start to understand what he said is quite     right.                      The correct value is 12.5  % and 3   r d position. The time is 10:30 am                     The length of the object is 845mm and cost $1m. The sunrise happens at 0750 EST and visibily is 35 km.                     The right way to summarize and favor some advisors is still to be found \n",
      "\n",
      " #########\n",
      "CORRECTED TEXT : #########  \n",
      " The corrected text is: 'I saw a sample product. These products are below expected quality. \n",
      " I start to understand what he said is quite right.                      The correct value is 12.5% and 3 rd position. The time is 10:30 am                     The length of the object is 845mm and costs $1m. The sunrise happens at 0750 EST and visibility is 35 km.                     The right way to summarize and favor some advisors is still to be found.'\n",
      "Changes made:\n",
      "- Changed \"smaple\" to \"sample\" (spelling)\n",
      "- Added missing percentage sign after \"12.5%\" (grammar)\n",
      "- Corrected the position from \"3 rd\" to \"3rd\" (grammar)\n",
      "- Replaced \"quite\" with \"right\" (grammar)\n",
      "- Changed \"visibily\" to \"visibility\" (spelling)\n",
      " \n",
      " ################# \n"
     ]
    }
   ],
   "source": [
    "# let is try using a text\n",
    "text_to_correct =  'I saw a smaple product. These products is below expected quality. \\n I start to understand what he said is quite     right.  \\\n",
    "                    The correct value is 12.5  % and 3   r d position. The time is 10:30 am  \\\n",
    "                   The length of the object is 845mm and cost $1m. The sunrise happens at 0750 EST and visibily is 35 km.  \\\n",
    "                   The right way to summarize and favor some advisors is still to be found'\n",
    "prompt = (\n",
    "    \"<|system|>You are an expert editor who corrects spelling, formatting and grammatical errors<|end|>\\n\"\n",
    "    \"<|user|> \\n\" \n",
    "    f\"Edit the following text for spelling and grammar mistakes:  '{text_to_correct}'\\n\"\n",
    "    f\"First show the edited text and then , list **all** the changes made by type of change such as spelling, grammar or formatting\"\n",
    "    \"<|end|>\\n\"\n",
    "    \"<|assistant|>\\n\"\n",
    ")\n",
    "# Generate the output using the model\n",
    "output = llm(prompt, max_tokens=400, temperature=0.7, top_p=0.1, top_k=40, repeat_penalty=1.18)\n",
    "#print(output['choices'][0]['text'].strip())\n",
    "# Print the list of corrections\n",
    "print(f\"ORIGINIAL TEXT : #########  \\n {text_to_correct} \\n\\n #########\")\n",
    "print(f\"CORRECTED TEXT : #########  \\n {output['choices'][0]['text'].strip()}\\n \\n ################# \")"
   ]
  },
  {
   "cell_type": "code",
   "execution_count": 60,
   "id": "03c2441d-3a2d-481c-a178-5ab78125542d",
   "metadata": {},
   "outputs": [
    {
     "name": "stderr",
     "output_type": "stream",
     "text": [
      "Llama.generate: 206 prefix-match hit, remaining 14 prompt tokens to eval\n",
      "\n",
      "llama_print_timings:        load time =   13643.17 ms\n",
      "llama_print_timings:      sample time =     177.80 ms /   263 runs   (    0.68 ms per token,  1479.16 tokens per second)\n",
      "llama_print_timings: prompt eval time =    2877.15 ms /    14 tokens (  205.51 ms per token,     4.87 tokens per second)\n",
      "llama_print_timings:        eval time =   36504.41 ms /   262 runs   (  139.33 ms per token,     7.18 tokens per second)\n",
      "llama_print_timings:       total time =   39848.14 ms /   276 tokens\n"
     ]
    },
    {
     "name": "stdout",
     "output_type": "stream",
     "text": [
      "ORIGINAL TEXT : #########  \n",
      " I saw a smaple product. These products is below expected quality. \n",
      " I start to understand what he said is quite     right.                      The correct value is 12.5  % and 3   r d position. The time is 10:30 am                     The length of the object is 845mm and cost $1m. The sunrise happens at 0750 EST and visibily is 35 km.                     The right way to summarize and favor some advisors is still to be found \n",
      "\n",
      " #########\n",
      "CORRECTED TEXT : #########  \n",
      " 1. Edited Text: 'I saw a sample product. These products are below expected quality. I start to understand what he said is quite right. The correct value is 12.5% and 3rd position. The time is 10:30 am. The length of the object is 845mm and costs $1m. The sunrise happens at 0750 EST and visibility is 35 km. The right way to summarize and favor some advisors is still to be found.'\n",
      "2. Corrections:\n",
      "   a) Removed extra spaces after 'I saw' and before 'These products are below expected quality.'\n",
      "   b) Changed 'smaple product' to 'sample product.'\n",
      "   c) Added missing percentage sign (%) after '12.5'.\n",
      "   d) Corrected the position from 'rd' to '3rd'.\n",
      "   e) Fixed the time format by changing '0750 EST' to '07:50 EST.'\n",
      "   f) Added missing dollar sign ($) before '1m.'\n",
      "   g) Changed 'visibily' to 'visibility.'\n",
      "<|end|>\n",
      " \n",
      " ################# \n"
     ]
    }
   ],
   "source": [
    "#Prompt Playground\n",
    "# let is try using a text\n",
    "text_to_correct =  'I saw a smaple product. These products is below expected quality. \\n I start to understand what he said is quite     right.  \\\n",
    "                    The correct value is 12.5  % and 3   r d position. The time is 10:30 am  \\\n",
    "                   The length of the object is 845mm and cost $1m. The sunrise happens at 0750 EST and visibily is 35 km.  \\\n",
    "                   The right way to summarize and favor some advisors is still to be found'\n",
    "prompt = (\n",
    "    \"<|system|>You are an expert editor who corrects spelling, formatting and grammatical errors<|end|>\\n\"\n",
    "    \"<|user|> ** TASK**  \\n\" \n",
    "    f\"1. Edit the following text for spelling and grammar mistakes:  '{text_to_correct}'\\n\"\n",
    "    f\"2. Remove any formatting errors such as extra spaces\"\n",
    "    f\"**IMPORTANT** First show the edited text and then , list **each correction made**\"\n",
    "    \"<|end|>\\n\"\n",
    "    \"<|assistant|>\\n\"\n",
    ")\n",
    "# Generate the output using the model\n",
    "output = llm(prompt, max_tokens=400, temperature=0.7, top_p=0.1, top_k=40, repeat_penalty=1.18)\n",
    "#print(output['choices'][0]['text'].strip())\n",
    "# Print the list of corrections\n",
    "print(f\"ORIGINAL TEXT : #########  \\n {text_to_correct} \\n\\n #########\")\n",
    "print(f\"CORRECTED TEXT : #########  \\n {output['choices'][0]['text'].strip()}\\n \\n ################# \")"
   ]
  },
  {
   "cell_type": "code",
   "execution_count": null,
   "id": "2097a8da-f8c2-4dbb-bda7-2e291be93145",
   "metadata": {},
   "outputs": [],
   "source": []
  }
 ],
 "metadata": {
  "kernelspec": {
   "display_name": "Python 3 (ipykernel)",
   "language": "python",
   "name": "python3"
  },
  "language_info": {
   "codemirror_mode": {
    "name": "ipython",
    "version": 3
   },
   "file_extension": ".py",
   "mimetype": "text/x-python",
   "name": "python",
   "nbconvert_exporter": "python",
   "pygments_lexer": "ipython3",
   "version": "3.10.13"
  }
 },
 "nbformat": 4,
 "nbformat_minor": 5
}
