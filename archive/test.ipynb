{
 "cells": [
  {
   "cell_type": "code",
   "execution_count": 4,
   "id": "b2a95128",
   "metadata": {},
   "outputs": [
    {
     "ename": "ModuleNotFoundError",
     "evalue": "No module named 'utils'",
     "output_type": "error",
     "traceback": [
      "\u001b[0;31m---------------------------------------------------------------------------\u001b[0m",
      "\u001b[0;31mModuleNotFoundError\u001b[0m                       Traceback (most recent call last)",
      "Cell \u001b[0;32mIn[4], line 3\u001b[0m\n\u001b[1;32m      1\u001b[0m \u001b[38;5;66;03m#docx_elements_to_apply_comments_to: List[Union[Paragraph, Table]] = [] # fill this however you prefer\u001b[39;00m\n\u001b[1;32m      2\u001b[0m \u001b[38;5;28;01mimport\u001b[39;00m \u001b[38;5;21;01mdocx\u001b[39;00m\n\u001b[0;32m----> 3\u001b[0m \u001b[38;5;28;01mfrom\u001b[39;00m  \u001b[38;5;21;01mutils\u001b[39;00m\u001b[38;5;21;01m.\u001b[39;00m\u001b[38;5;21;01mdoc_formatting\u001b[39;00m \u001b[38;5;28;01mimport\u001b[39;00m add_comment_to_elements_in_place\n\u001b[1;32m      4\u001b[0m mydocx_doc \u001b[38;5;241m=\u001b[39m docx\u001b[38;5;241m.\u001b[39mDocument(\u001b[38;5;124m\"\u001b[39m\u001b[38;5;124m/home/cdsw/data/simple-word-file-with-table.docx\u001b[39m\u001b[38;5;124m\"\u001b[39m)\n\u001b[1;32m      5\u001b[0m paras \u001b[38;5;241m=\u001b[39m [elem\u001b[38;5;241m.\u001b[39m_element \u001b[38;5;28;01mfor\u001b[39;00m elem \u001b[38;5;129;01min\u001b[39;00m mydocx_doc\u001b[38;5;241m.\u001b[39mparagraphs]\n",
      "\u001b[0;31mModuleNotFoundError\u001b[0m: No module named 'utils'"
     ]
    }
   ],
   "source": [
    "#docx_elements_to_apply_comments_to: List[Union[Paragraph, Table]] = [] # fill this however you prefer\n",
    "import docx\n",
    "from  utils.doc_formatting import add_comment_to_elements_in_place\n",
    "mydocx_doc = docx.Document(\"/home/cdsw/data/simple-word-file-with-table.docx\")\n",
    "paras = [elem._element for elem in mydocx_doc.paragraphs]\n",
    "#add_comment_to_elements_in_place(mydocx_doc, [elem._element for elem in mydocx_doc.paragraphs], \"John Doe\", \"This is a comment text\")\n",
    "add_comment_to_elements_in_place(mydocx_doc, [paras[0]], \"Vish R\", \"This is a comment text\")\n",
    "\n",
    "for table in mydocx_doc.tables:\n",
    "    print(\"In TABLE\")\n",
    "    for row in table.rows:\n",
    "        for cell in row.cells:\n",
    "            for paragraph in cell.paragraphs:\n",
    "                # Add an asterisk (*) to the end of each cell paragraph\n",
    "                print(paragraph.text)\n",
    "                paragraph.add_run('*P*T*')\n",
    "                add_comment_to_elements_in_place(mydocx_doc, [paragraph._element], \"Vish R\", \"This is a comment text\")\n",
    "\n",
    "\n",
    "mydocx_doc.save(\"/home/cdsw/data/doc_with_comments.docx\")"
   ]
  },
  {
   "cell_type": "code",
   "execution_count": 6,
   "id": "8691f440",
   "metadata": {},
   "outputs": [
    {
     "name": "stdout",
     "output_type": "stream",
     "text": [
      "Requirement already satisfied: spacy in /home/cdsw/.local/lib/python3.11/site-packages (3.8.2)\n",
      "Requirement already satisfied: spacy-legacy<3.1.0,>=3.0.11 in /home/cdsw/.local/lib/python3.11/site-packages (from spacy) (3.0.12)\n",
      "Requirement already satisfied: spacy-loggers<2.0.0,>=1.0.0 in /home/cdsw/.local/lib/python3.11/site-packages (from spacy) (1.0.5)\n",
      "Requirement already satisfied: murmurhash<1.1.0,>=0.28.0 in /home/cdsw/.local/lib/python3.11/site-packages (from spacy) (1.0.10)\n",
      "Requirement already satisfied: cymem<2.1.0,>=2.0.2 in /home/cdsw/.local/lib/python3.11/site-packages (from spacy) (2.0.8)\n",
      "Requirement already satisfied: preshed<3.1.0,>=3.0.2 in /home/cdsw/.local/lib/python3.11/site-packages (from spacy) (3.0.9)\n",
      "Requirement already satisfied: thinc<8.4.0,>=8.3.0 in /home/cdsw/.local/lib/python3.11/site-packages (from spacy) (8.3.2)\n",
      "Requirement already satisfied: wasabi<1.2.0,>=0.9.1 in /home/cdsw/.local/lib/python3.11/site-packages (from spacy) (1.1.3)\n",
      "Requirement already satisfied: srsly<3.0.0,>=2.4.3 in /home/cdsw/.local/lib/python3.11/site-packages (from spacy) (2.4.8)\n",
      "Requirement already satisfied: catalogue<2.1.0,>=2.0.6 in /home/cdsw/.local/lib/python3.11/site-packages (from spacy) (2.0.10)\n",
      "Requirement already satisfied: weasel<0.5.0,>=0.1.0 in /home/cdsw/.local/lib/python3.11/site-packages (from spacy) (0.4.1)\n",
      "Requirement already satisfied: typer<1.0.0,>=0.3.0 in /home/cdsw/.local/lib/python3.11/site-packages (from spacy) (0.12.5)\n",
      "Requirement already satisfied: tqdm<5.0.0,>=4.38.0 in /home/cdsw/.local/lib/python3.11/site-packages (from spacy) (4.66.5)\n",
      "Requirement already satisfied: requests<3.0.0,>=2.13.0 in /home/cdsw/.local/lib/python3.11/site-packages (from spacy) (2.32.3)\n",
      "Requirement already satisfied: pydantic!=1.8,!=1.8.1,<3.0.0,>=1.7.4 in /home/cdsw/.local/lib/python3.11/site-packages (from spacy) (2.8.2)\n",
      "Requirement already satisfied: jinja2 in /usr/local/lib/python3.11/site-packages (from spacy) (3.1.2)\n",
      "Requirement already satisfied: setuptools in /usr/local/lib/python3.11/site-packages (from spacy) (65.5.0)\n",
      "Requirement already satisfied: packaging>=20.0 in /usr/local/lib/python3.11/site-packages (from spacy) (23.2)\n",
      "Requirement already satisfied: langcodes<4.0.0,>=3.2.0 in /home/cdsw/.local/lib/python3.11/site-packages (from spacy) (3.4.1)\n",
      "Requirement already satisfied: numpy>=1.19.0 in /home/cdsw/.local/lib/python3.11/site-packages (from spacy) (2.0.2)\n",
      "Requirement already satisfied: language-data>=1.2 in /home/cdsw/.local/lib/python3.11/site-packages (from langcodes<4.0.0,>=3.2.0->spacy) (1.2.0)\n",
      "Requirement already satisfied: annotated-types>=0.4.0 in /home/cdsw/.local/lib/python3.11/site-packages (from pydantic!=1.8,!=1.8.1,<3.0.0,>=1.7.4->spacy) (0.7.0)\n",
      "Requirement already satisfied: pydantic-core==2.20.1 in /home/cdsw/.local/lib/python3.11/site-packages (from pydantic!=1.8,!=1.8.1,<3.0.0,>=1.7.4->spacy) (2.20.1)\n",
      "Requirement already satisfied: typing-extensions>=4.6.1 in /home/cdsw/.local/lib/python3.11/site-packages (from pydantic!=1.8,!=1.8.1,<3.0.0,>=1.7.4->spacy) (4.12.2)\n",
      "Requirement already satisfied: charset-normalizer<4,>=2 in /usr/local/lib/python3.11/site-packages (from requests<3.0.0,>=2.13.0->spacy) (3.3.2)\n",
      "Requirement already satisfied: idna<4,>=2.5 in /home/cdsw/.local/lib/python3.11/site-packages (from requests<3.0.0,>=2.13.0->spacy) (3.10)\n",
      "Requirement already satisfied: urllib3<3,>=1.21.1 in /usr/local/lib/python3.11/site-packages (from requests<3.0.0,>=2.13.0->spacy) (2.1.0)\n",
      "Requirement already satisfied: certifi>=2017.4.17 in /usr/local/lib/python3.11/site-packages (from requests<3.0.0,>=2.13.0->spacy) (2023.11.17)\n",
      "Requirement already satisfied: blis<1.1.0,>=1.0.0 in /home/cdsw/.local/lib/python3.11/site-packages (from thinc<8.4.0,>=8.3.0->spacy) (1.0.1)\n",
      "Requirement already satisfied: confection<1.0.0,>=0.0.1 in /home/cdsw/.local/lib/python3.11/site-packages (from thinc<8.4.0,>=8.3.0->spacy) (0.1.5)\n",
      "Requirement already satisfied: click>=8.0.0 in /home/cdsw/.local/lib/python3.11/site-packages (from typer<1.0.0,>=0.3.0->spacy) (8.1.7)\n",
      "Requirement already satisfied: shellingham>=1.3.0 in /home/cdsw/.local/lib/python3.11/site-packages (from typer<1.0.0,>=0.3.0->spacy) (1.5.4)\n",
      "Requirement already satisfied: rich>=10.11.0 in /home/cdsw/.local/lib/python3.11/site-packages (from typer<1.0.0,>=0.3.0->spacy) (13.8.1)\n",
      "Requirement already satisfied: cloudpathlib<1.0.0,>=0.7.0 in /home/cdsw/.local/lib/python3.11/site-packages (from weasel<0.5.0,>=0.1.0->spacy) (0.19.0)\n",
      "Requirement already satisfied: smart-open<8.0.0,>=5.2.1 in /home/cdsw/.local/lib/python3.11/site-packages (from weasel<0.5.0,>=0.1.0->spacy) (7.0.5)\n",
      "Requirement already satisfied: MarkupSafe>=2.0 in /usr/local/lib/python3.11/site-packages (from jinja2->spacy) (2.1.3)\n",
      "Requirement already satisfied: marisa-trie>=0.7.7 in /home/cdsw/.local/lib/python3.11/site-packages (from language-data>=1.2->langcodes<4.0.0,>=3.2.0->spacy) (1.2.1)\n",
      "Requirement already satisfied: markdown-it-py>=2.2.0 in /home/cdsw/.local/lib/python3.11/site-packages (from rich>=10.11.0->typer<1.0.0,>=0.3.0->spacy) (3.0.0)\n",
      "Requirement already satisfied: pygments<3.0.0,>=2.13.0 in /usr/local/lib/python3.11/site-packages (from rich>=10.11.0->typer<1.0.0,>=0.3.0->spacy) (2.17.2)\n",
      "Requirement already satisfied: wrapt in /home/cdsw/.local/lib/python3.11/site-packages (from smart-open<8.0.0,>=5.2.1->weasel<0.5.0,>=0.1.0->spacy) (1.16.0)\n",
      "Requirement already satisfied: mdurl~=0.1 in /home/cdsw/.local/lib/python3.11/site-packages (from markdown-it-py>=2.2.0->rich>=10.11.0->typer<1.0.0,>=0.3.0->spacy) (0.1.2)\n"
     ]
    }
   ],
   "source": [
    "!pip install spacy"
   ]
  },
  {
   "cell_type": "code",
   "execution_count": 7,
   "id": "d13d791d",
   "metadata": {},
   "outputs": [
    {
     "ename": "OSError",
     "evalue": "[E050] Can't find model 'en_core_web_sm'. It doesn't seem to be a Python package or a valid path to a data directory.",
     "output_type": "error",
     "traceback": [
      "\u001b[0;31m---------------------------------------------------------------------------\u001b[0m",
      "\u001b[0;31mOSError\u001b[0m                                   Traceback (most recent call last)",
      "Cell \u001b[0;32mIn[7], line 2\u001b[0m\n\u001b[1;32m      1\u001b[0m \u001b[38;5;28;01mimport\u001b[39;00m \u001b[38;5;21;01mspacy\u001b[39;00m\n\u001b[0;32m----> 2\u001b[0m nlp \u001b[38;5;241m=\u001b[39m \u001b[43mspacy\u001b[49m\u001b[38;5;241;43m.\u001b[39;49m\u001b[43mload\u001b[49m\u001b[43m(\u001b[49m\u001b[38;5;124;43m\"\u001b[39;49m\u001b[38;5;124;43men_core_web_sm\u001b[39;49m\u001b[38;5;124;43m\"\u001b[39;49m\u001b[43m)\u001b[49m\n\u001b[1;32m      3\u001b[0m \u001b[38;5;28;01mdef\u001b[39;00m \u001b[38;5;21mcapitalize_proper_nouns_nlp\u001b[39m(text):\n\u001b[1;32m      4\u001b[0m \u001b[38;5;250m    \u001b[39m\u001b[38;5;124;03m\"\"\"\u001b[39;00m\n\u001b[1;32m      5\u001b[0m \u001b[38;5;124;03m    Capitalizes proper nouns in the text using spaCy's named entity recognition (NER).\u001b[39;00m\n\u001b[1;32m      6\u001b[0m \u001b[38;5;124;03m    \u001b[39;00m\n\u001b[0;32m   (...)\u001b[0m\n\u001b[1;32m     11\u001b[0m \u001b[38;5;124;03m    - str: Text with proper nouns capitalized.\u001b[39;00m\n\u001b[1;32m     12\u001b[0m \u001b[38;5;124;03m    \"\"\"\u001b[39;00m\n",
      "File \u001b[0;32m~/.local/lib/python3.11/site-packages/spacy/__init__.py:51\u001b[0m, in \u001b[0;36mload\u001b[0;34m(name, vocab, disable, enable, exclude, config)\u001b[0m\n\u001b[1;32m     27\u001b[0m \u001b[38;5;28;01mdef\u001b[39;00m \u001b[38;5;21mload\u001b[39m(\n\u001b[1;32m     28\u001b[0m     name: Union[\u001b[38;5;28mstr\u001b[39m, Path],\n\u001b[1;32m     29\u001b[0m     \u001b[38;5;241m*\u001b[39m,\n\u001b[0;32m   (...)\u001b[0m\n\u001b[1;32m     34\u001b[0m     config: Union[Dict[\u001b[38;5;28mstr\u001b[39m, Any], Config] \u001b[38;5;241m=\u001b[39m util\u001b[38;5;241m.\u001b[39mSimpleFrozenDict(),\n\u001b[1;32m     35\u001b[0m ) \u001b[38;5;241m-\u001b[39m\u001b[38;5;241m>\u001b[39m Language:\n\u001b[1;32m     36\u001b[0m \u001b[38;5;250m    \u001b[39m\u001b[38;5;124;03m\"\"\"Load a spaCy model from an installed package or a local path.\u001b[39;00m\n\u001b[1;32m     37\u001b[0m \n\u001b[1;32m     38\u001b[0m \u001b[38;5;124;03m    name (str): Package name or model path.\u001b[39;00m\n\u001b[0;32m   (...)\u001b[0m\n\u001b[1;32m     49\u001b[0m \u001b[38;5;124;03m    RETURNS (Language): The loaded nlp object.\u001b[39;00m\n\u001b[1;32m     50\u001b[0m \u001b[38;5;124;03m    \"\"\"\u001b[39;00m\n\u001b[0;32m---> 51\u001b[0m     \u001b[38;5;28;01mreturn\u001b[39;00m \u001b[43mutil\u001b[49m\u001b[38;5;241;43m.\u001b[39;49m\u001b[43mload_model\u001b[49m\u001b[43m(\u001b[49m\n\u001b[1;32m     52\u001b[0m \u001b[43m        \u001b[49m\u001b[43mname\u001b[49m\u001b[43m,\u001b[49m\n\u001b[1;32m     53\u001b[0m \u001b[43m        \u001b[49m\u001b[43mvocab\u001b[49m\u001b[38;5;241;43m=\u001b[39;49m\u001b[43mvocab\u001b[49m\u001b[43m,\u001b[49m\n\u001b[1;32m     54\u001b[0m \u001b[43m        \u001b[49m\u001b[43mdisable\u001b[49m\u001b[38;5;241;43m=\u001b[39;49m\u001b[43mdisable\u001b[49m\u001b[43m,\u001b[49m\n\u001b[1;32m     55\u001b[0m \u001b[43m        \u001b[49m\u001b[43menable\u001b[49m\u001b[38;5;241;43m=\u001b[39;49m\u001b[43menable\u001b[49m\u001b[43m,\u001b[49m\n\u001b[1;32m     56\u001b[0m \u001b[43m        \u001b[49m\u001b[43mexclude\u001b[49m\u001b[38;5;241;43m=\u001b[39;49m\u001b[43mexclude\u001b[49m\u001b[43m,\u001b[49m\n\u001b[1;32m     57\u001b[0m \u001b[43m        \u001b[49m\u001b[43mconfig\u001b[49m\u001b[38;5;241;43m=\u001b[39;49m\u001b[43mconfig\u001b[49m\u001b[43m,\u001b[49m\n\u001b[1;32m     58\u001b[0m \u001b[43m    \u001b[49m\u001b[43m)\u001b[49m\n",
      "File \u001b[0;32m~/.local/lib/python3.11/site-packages/spacy/util.py:472\u001b[0m, in \u001b[0;36mload_model\u001b[0;34m(name, vocab, disable, enable, exclude, config)\u001b[0m\n\u001b[1;32m    470\u001b[0m \u001b[38;5;28;01mif\u001b[39;00m name \u001b[38;5;129;01min\u001b[39;00m OLD_MODEL_SHORTCUTS:\n\u001b[1;32m    471\u001b[0m     \u001b[38;5;28;01mraise\u001b[39;00m \u001b[38;5;167;01mIOError\u001b[39;00m(Errors\u001b[38;5;241m.\u001b[39mE941\u001b[38;5;241m.\u001b[39mformat(name\u001b[38;5;241m=\u001b[39mname, full\u001b[38;5;241m=\u001b[39mOLD_MODEL_SHORTCUTS[name]))  \u001b[38;5;66;03m# type: ignore[index]\u001b[39;00m\n\u001b[0;32m--> 472\u001b[0m \u001b[38;5;28;01mraise\u001b[39;00m \u001b[38;5;167;01mIOError\u001b[39;00m(Errors\u001b[38;5;241m.\u001b[39mE050\u001b[38;5;241m.\u001b[39mformat(name\u001b[38;5;241m=\u001b[39mname))\n",
      "\u001b[0;31mOSError\u001b[0m: [E050] Can't find model 'en_core_web_sm'. It doesn't seem to be a Python package or a valid path to a data directory."
     ]
    }
   ],
   "source": [
    "\n",
    "import spacy\n",
    "nlp = spacy.load(\"en_core_web_sm\")\n",
    "def capitalize_proper_nouns_nlp(text):\n",
    "    \"\"\"\n",
    "    Capitalizes proper nouns in the text using spaCy's named entity recognition (NER).\n",
    "    \n",
    "    Args:\n",
    "    - text (str): Input text.\n",
    "    \n",
    "    Returns:\n",
    "    - str: Text with proper nouns capitalized.\n",
    "    \"\"\"\n",
    "    doc = nlp(text)\n",
    "    result = []\n",
    "    for token in doc:\n",
    "        # Capitalize if the token is identified as a proper noun (entity label 'PERSON', 'ORG', 'GPE', etc.)\n",
    "        if token.ent_type_ in ['PERSON', 'ORG', 'GPE']:\n",
    "            result.append(token.text.capitalize())\n",
    "        else:\n",
    "            result.append(token.text)\n",
    "    \n",
    "    return ' '.join(result)\n",
    "\n",
    "# Example text\n",
    "sample_text = \"john works for microsoft and lives in sydney, australia.\"\n",
    "\n",
    "# Capitalize proper nouns using spaCy\n",
    "capitalized_text = capitalize_proper_nouns_nlp(sample_text)\n",
    "print(capitalized_text)\n"
   ]
  },
  {
   "cell_type": "code",
   "execution_count": 1,
   "id": "3f722780",
   "metadata": {},
   "outputs": [
    {
     "name": "stdout",
     "output_type": "stream",
     "text": [
      "{'A', 'B'}\n"
     ]
    }
   ],
   "source": [
    "test_set = set({\"A\", \"B\"})\n",
    "print(test_set)"
   ]
  },
  {
   "cell_type": "code",
   "execution_count": 8,
   "id": "7a1b8259",
   "metadata": {},
   "outputs": [
    {
     "name": "stdout",
     "output_type": "stream",
     "text": [
      "Requirement already satisfied: Spire.Doc in /home/cdsw/.local/lib/python3.11/site-packages (12.7.1)\n",
      "Requirement already satisfied: plum-dispatch==1.7.4 in /home/cdsw/.local/lib/python3.11/site-packages (from Spire.Doc) (1.7.4)\n"
     ]
    }
   ],
   "source": [
    "!pip install Spire.Doc"
   ]
  },
  {
   "cell_type": "code",
   "execution_count": 9,
   "id": "8796c211",
   "metadata": {},
   "outputs": [],
   "source": [
    "from spire.doc import *\t\n",
    "from spire.doc.common import *\n",
    "\n",
    "# Create a Document object\n",
    "doc = Document()\n",
    "\n",
    "# Add a section\n",
    "section = doc.AddSection()\n",
    "\n",
    "# Set the page margins\n",
    "section.PageSetup.Margins.All = 40\n",
    "\n",
    "# Add a title\n",
    "titleParagraph = section.AddParagraph()\n",
    "titleParagraph.AppendText(\"Introduction of Spire.Doc for Python\")\n",
    "\n",
    "# Add two paragraphs\n",
    "bodyParagraph_1 = section.AddParagraph()\n",
    "bodyParagraph_1.AppendText(\"Spire.Doc for Python is a professional Python library designed for developers to \" +\n",
    "                           \"create, read, write, convert, compare and print Word documents in any Python application \" +\n",
    "                           \"with fast and high-quality performance.\")\n",
    "\n",
    "bodyParagraph_2 = section.AddParagraph()\n",
    "bodyParagraph_2.AppendText(\"As an independent Word Python API, Spire.Doc for Python doesn't need Microsoft Word to \" +\n",
    "                           \"be installed on neither the development nor target systems. However, it can incorporate Microsoft Word \" +\n",
    "                           \"document creation capabilities into any developers' Python applications.\")\n",
    "\n",
    "# Apply heading1 to the title\n",
    "titleParagraph.ApplyStyle(BuiltinStyle.Heading1)\n",
    "\n",
    "# Create a style for the paragraphs\n",
    "style2 = ParagraphStyle(doc)\n",
    "style2.Name = \"paraStyle\"\n",
    "style2.CharacterFormat.FontName = \"Arial\"\n",
    "style2.CharacterFormat.FontSize = 13\n",
    "doc.Styles.Add(style2)\n",
    "bodyParagraph_1.ApplyStyle(\"paraStyle\")\n",
    "bodyParagraph_2.ApplyStyle(\"paraStyle\")\n",
    "\n",
    "# Set the horizontal alignment of the paragraphs\n",
    "titleParagraph.Format.HorizontalAlignment = HorizontalAlignment.Center\n",
    "bodyParagraph_1.Format.HorizontalAlignment = HorizontalAlignment.Left\n",
    "bodyParagraph_2.Format.HorizontalAlignment = HorizontalAlignment.Left\n",
    "\n",
    "# Set the after spacing\n",
    "titleParagraph.Format.AfterSpacing = 10\n",
    "bodyParagraph_1.Format.AfterSpacing = 10\n",
    "\n",
    "# Save to file\n",
    "doc.SaveToFile(\"output/WordDocument.docx\", FileFormat.Docx2019)"
   ]
  },
  {
   "cell_type": "code",
   "execution_count": 41,
   "id": "49f11050",
   "metadata": {},
   "outputs": [],
   "source": [
    "#Testing Spire. \n",
    "\n",
    "from spire.doc import *\n",
    "from spire.doc.common import *\n",
    "# Create an object of the Document class\n",
    "doc = Document()\n",
    "# Load a Word document\n",
    "doc.LoadFromFile(\"output/WordDocument.docx\")\n",
    "\n",
    "# Enable the track changes mode for the document\n",
    "# doc.TrackChanges = True\n",
    "\n",
    "#Find text\n",
    "#textSelections = doc.FindAllString(\"python\", False, True)\n",
    "\n",
    "doc.Replace(\"python\", \"python-ReplacedText\", False, True)\n",
    "\n",
    "#Set hightlight\n",
    "# for selection in textSelections:\n",
    "#     selection.GetAsOneRange().CharacterFormat.HighlightColor = Color.get_Yellow()\n",
    "\n",
    "# Add a section\n",
    "section = doc.AddSection()\n",
    "\n",
    "# Add a title\n",
    "titleParagraph = section.AddParagraph()\n",
    "titleParagraph.AppendText(\"Testing Track Changes in Spire.doc\")\n",
    "\n",
    "# Add two paragraphs\n",
    "bodyParagraph_1 = section.AddParagraph()\n",
    "bodyParagraph_1.AppendText(\"Let us see if the track changes are working on this document\")\n",
    "\n",
    "\n",
    "\n",
    "# Save the result document\n",
    "doc.SaveToFile(\"output/EnableTrackChanges.docx\", FileFormat.Docx2019)\n",
    "\n",
    "doc.Close()"
   ]
  },
  {
   "cell_type": "code",
   "execution_count": 22,
   "id": "e3a3c606",
   "metadata": {},
   "outputs": [
    {
     "name": "stdout",
     "output_type": "stream",
     "text": [
      "Collecting aspose-words\n",
      "  Downloading aspose_words-24.10.0-py3-none-manylinux1_x86_64.whl.metadata (8.4 kB)\n",
      "Downloading aspose_words-24.10.0-py3-none-manylinux1_x86_64.whl (85.7 MB)\n",
      "\u001b[2K   \u001b[90m━━━━━━━━━━━━━━━━━━━━━━━━━━━━━━━━━━━━━━━━\u001b[0m \u001b[32m85.7/85.7 MB\u001b[0m \u001b[31m16.6 MB/s\u001b[0m eta \u001b[36m0:00:00\u001b[0m:00:01\u001b[0m00:01\u001b[0m\n",
      "\u001b[?25hInstalling collected packages: aspose-words\n",
      "Successfully installed aspose-words-24.10.0\n"
     ]
    }
   ],
   "source": [
    "!pip install aspose-words"
   ]
  },
  {
   "cell_type": "code",
   "execution_count": 36,
   "id": "193badb1",
   "metadata": {},
   "outputs": [
    {
     "ename": "RuntimeError",
     "evalue": "Proxy error(ArgumentException): Cannot insert a node of this type at this location.",
     "output_type": "error",
     "traceback": [
      "\u001b[0;31m---------------------------------------------------------------------------\u001b[0m",
      "\u001b[0;31mRuntimeError\u001b[0m                              Traceback (most recent call last)",
      "Cell \u001b[0;32mIn[36], line 46\u001b[0m\n\u001b[1;32m     30\u001b[0m para\u001b[38;5;241m.\u001b[39mremove()\n\u001b[1;32m     32\u001b[0m \u001b[38;5;66;03m# Since we are tracking revisions, the paragraph still exists in the document, will have the \"IsDeleteRevision\" set\u001b[39;00m\n\u001b[1;32m     33\u001b[0m \u001b[38;5;66;03m# and will be displayed as a revision in Microsoft Word, until we accept or reject all revisions.\u001b[39;00m\n\u001b[1;32m     34\u001b[0m \u001b[38;5;66;03m# self.assertEqual(4, paragraphs.count)\u001b[39;00m\n\u001b[0;32m   (...)\u001b[0m\n\u001b[1;32m     44\u001b[0m \n\u001b[1;32m     45\u001b[0m \u001b[38;5;66;03m# Save the document.\u001b[39;00m\n\u001b[0;32m---> 46\u001b[0m \u001b[43mdoc\u001b[49m\u001b[38;5;241;43m.\u001b[39;49m\u001b[43msave\u001b[49m\u001b[43m(\u001b[49m\u001b[38;5;124;43m\"\u001b[39;49m\u001b[38;5;124;43moutput/WorkingWithRevisions.accept_revisions.docx\u001b[39;49m\u001b[38;5;124;43m\"\u001b[39;49m\u001b[43m)\u001b[49m\n",
      "\u001b[0;31mRuntimeError\u001b[0m: Proxy error(ArgumentException): Cannot insert a node of this type at this location."
     ]
    }
   ],
   "source": [
    "#Testing  Aspose\n",
    "\n",
    "# Import Aspose.Words for Python via .NET module\n",
    "import aspose.words as aw\n",
    "\n",
    "# Create and save a simple document\n",
    "# For complete examples and data files, please go to https://github.com/aspose-words/Aspose.Words-for-Python-via-.NET\n",
    "doc = aw.Document()\n",
    "body = doc.first_section.body\n",
    "para = body.first_paragraph\n",
    "\n",
    "# Add text to the first paragraph, then add two more paragraphs.\n",
    "para.append_child(aw.Run(doc, \"Paragraph 1. \"))\n",
    "body.append_paragraph(\"Paragraph 2. \")\n",
    "body.append_paragraph(\"Paragraph 3. \")\n",
    "\n",
    "# We have three paragraphs, none of which registered as any type of revision\n",
    "# If we add/remove any content in the document while tracking revisions,\n",
    "# they will be displayed as such in the document and can be accepted/rejected.\n",
    "doc.start_track_revisions(\"John Doe\", datetime.today())\n",
    "\n",
    "# This paragraph is a revision and will have the according \"IsInsertRevision\" flag set.\n",
    "para = body.append_paragraph(\"Paragraph 4. \")\n",
    "# self.assertTrue(para.is_insert_revision)\n",
    "\n",
    "# Get the document's paragraph collection and remove a paragraph.\n",
    "paragraphs = body.paragraphs\n",
    "# self.assertEqual(4, paragraphs.count)\n",
    "para = paragraphs[2]\n",
    "para.remove()\n",
    "\n",
    "# Since we are tracking revisions, the paragraph still exists in the document, will have the \"IsDeleteRevision\" set\n",
    "# and will be displayed as a revision in Microsoft Word, until we accept or reject all revisions.\n",
    "# self.assertEqual(4, paragraphs.count)\n",
    "# self.assertTrue(para.is_delete_revision)\n",
    "\n",
    "# The delete revision paragraph is removed once we accept changes.\n",
    "#doc.accept_all_revisions()\n",
    "# self.assertEqual(3, paragraphs.count)\n",
    "\n",
    "# Stopping the tracking of revisions makes this text appear as normal text.\n",
    "# Revisions are not counted when the document is changed.\n",
    "#doc.stop_track_revisions()\n",
    "\n",
    "# Save the document.\n",
    "doc.save(\"output/WorkingWithRevisions.accept_revisions.docx\")"
   ]
  }
 ],
 "metadata": {
  "kernelspec": {
   "display_name": "Python 3 (ipykernel)",
   "language": "python",
   "name": "python3"
  },
  "language_info": {
   "codemirror_mode": {
    "name": "ipython",
    "version": 3
   },
   "file_extension": ".py",
   "mimetype": "text/x-python",
   "name": "python",
   "nbconvert_exporter": "python",
   "pygments_lexer": "ipython3",
   "version": "3.11.6"
  }
 },
 "nbformat": 4,
 "nbformat_minor": 5
}
