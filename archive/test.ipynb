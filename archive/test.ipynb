{
 "cells": [
  {
   "cell_type": "code",
   "execution_count": 1,
   "id": "f333041e",
   "metadata": {},
   "outputs": [],
   "source": [
    "import sys\n",
    "sys.path.append('/home/cdsw/utils')"
   ]
  },
  {
   "cell_type": "code",
   "execution_count": 4,
   "id": "b2a95128",
   "metadata": {},
   "outputs": [
    {
     "ename": "ModuleNotFoundError",
     "evalue": "No module named 'utils'",
     "output_type": "error",
     "traceback": [
      "\u001b[0;31m---------------------------------------------------------------------------\u001b[0m",
      "\u001b[0;31mModuleNotFoundError\u001b[0m                       Traceback (most recent call last)",
      "Cell \u001b[0;32mIn[4], line 3\u001b[0m\n\u001b[1;32m      1\u001b[0m \u001b[38;5;66;03m#docx_elements_to_apply_comments_to: List[Union[Paragraph, Table]] = [] # fill this however you prefer\u001b[39;00m\n\u001b[1;32m      2\u001b[0m \u001b[38;5;28;01mimport\u001b[39;00m \u001b[38;5;21;01mdocx\u001b[39;00m\n\u001b[0;32m----> 3\u001b[0m \u001b[38;5;28;01mfrom\u001b[39;00m  \u001b[38;5;21;01mutils\u001b[39;00m\u001b[38;5;21;01m.\u001b[39;00m\u001b[38;5;21;01mdoc_formatting\u001b[39;00m \u001b[38;5;28;01mimport\u001b[39;00m add_comment_to_elements_in_place\n\u001b[1;32m      4\u001b[0m mydocx_doc \u001b[38;5;241m=\u001b[39m docx\u001b[38;5;241m.\u001b[39mDocument(\u001b[38;5;124m\"\u001b[39m\u001b[38;5;124m/home/cdsw/data/simple-word-file-with-table.docx\u001b[39m\u001b[38;5;124m\"\u001b[39m)\n\u001b[1;32m      5\u001b[0m paras \u001b[38;5;241m=\u001b[39m [elem\u001b[38;5;241m.\u001b[39m_element \u001b[38;5;28;01mfor\u001b[39;00m elem \u001b[38;5;129;01min\u001b[39;00m mydocx_doc\u001b[38;5;241m.\u001b[39mparagraphs]\n",
      "\u001b[0;31mModuleNotFoundError\u001b[0m: No module named 'utils'"
     ]
    }
   ],
   "source": [
    "#docx_elements_to_apply_comments_to: List[Union[Paragraph, Table]] = [] # fill this however you prefer\n",
    "import docx\n",
    "from  doc_formatter import add_comment_to_elements_in_place\n",
    "mydocx_doc = docx.Document(\"/home/cdsw/data/simple-word-file-with-table.docx\")\n",
    "paras = [elem._element for elem in mydocx_doc.paragraphs]\n",
    "#add_comment_to_elements_in_place(mydocx_doc, [elem._element for elem in mydocx_doc.paragraphs], \"John Doe\", \"This is a comment text\")\n",
    "add_comment_to_elements_in_place(mydocx_doc, [paras[0]], \"Vish R\", \"This is a comment text\")\n",
    "\n",
    "for table in mydocx_doc.tables:\n",
    "    print(\"In TABLE\")\n",
    "    for row in table.rows:\n",
    "        for cell in row.cells:\n",
    "            for paragraph in cell.paragraphs:\n",
    "                # Add an asterisk (*) to the end of each cell paragraph\n",
    "                print(paragraph.text)\n",
    "                paragraph.add_run('*P*T*')\n",
    "                add_comment_to_elements_in_place(mydocx_doc, [paragraph._element], \"Vish R\", \"This is a comment text\")\n",
    "\n",
    "\n",
    "mydocx_doc.save(\"/home/cdsw/data/doc_with_comments.docx\")"
   ]
  },
  {
   "cell_type": "code",
   "execution_count": 6,
   "id": "8691f440",
   "metadata": {},
   "outputs": [
    {
     "name": "stdout",
     "output_type": "stream",
     "text": [
      "Requirement already satisfied: spacy in /home/cdsw/.local/lib/python3.11/site-packages (3.8.2)\n",
      "Requirement already satisfied: spacy-legacy<3.1.0,>=3.0.11 in /home/cdsw/.local/lib/python3.11/site-packages (from spacy) (3.0.12)\n",
      "Requirement already satisfied: spacy-loggers<2.0.0,>=1.0.0 in /home/cdsw/.local/lib/python3.11/site-packages (from spacy) (1.0.5)\n",
      "Requirement already satisfied: murmurhash<1.1.0,>=0.28.0 in /home/cdsw/.local/lib/python3.11/site-packages (from spacy) (1.0.10)\n",
      "Requirement already satisfied: cymem<2.1.0,>=2.0.2 in /home/cdsw/.local/lib/python3.11/site-packages (from spacy) (2.0.8)\n",
      "Requirement already satisfied: preshed<3.1.0,>=3.0.2 in /home/cdsw/.local/lib/python3.11/site-packages (from spacy) (3.0.9)\n",
      "Requirement already satisfied: thinc<8.4.0,>=8.3.0 in /home/cdsw/.local/lib/python3.11/site-packages (from spacy) (8.3.2)\n",
      "Requirement already satisfied: wasabi<1.2.0,>=0.9.1 in /home/cdsw/.local/lib/python3.11/site-packages (from spacy) (1.1.3)\n",
      "Requirement already satisfied: srsly<3.0.0,>=2.4.3 in /home/cdsw/.local/lib/python3.11/site-packages (from spacy) (2.4.8)\n",
      "Requirement already satisfied: catalogue<2.1.0,>=2.0.6 in /home/cdsw/.local/lib/python3.11/site-packages (from spacy) (2.0.10)\n",
      "Requirement already satisfied: weasel<0.5.0,>=0.1.0 in /home/cdsw/.local/lib/python3.11/site-packages (from spacy) (0.4.1)\n",
      "Requirement already satisfied: typer<1.0.0,>=0.3.0 in /home/cdsw/.local/lib/python3.11/site-packages (from spacy) (0.12.5)\n",
      "Requirement already satisfied: tqdm<5.0.0,>=4.38.0 in /home/cdsw/.local/lib/python3.11/site-packages (from spacy) (4.66.5)\n",
      "Requirement already satisfied: requests<3.0.0,>=2.13.0 in /home/cdsw/.local/lib/python3.11/site-packages (from spacy) (2.32.3)\n",
      "Requirement already satisfied: pydantic!=1.8,!=1.8.1,<3.0.0,>=1.7.4 in /home/cdsw/.local/lib/python3.11/site-packages (from spacy) (2.8.2)\n",
      "Requirement already satisfied: jinja2 in /usr/local/lib/python3.11/site-packages (from spacy) (3.1.2)\n",
      "Requirement already satisfied: setuptools in /usr/local/lib/python3.11/site-packages (from spacy) (65.5.0)\n",
      "Requirement already satisfied: packaging>=20.0 in /usr/local/lib/python3.11/site-packages (from spacy) (23.2)\n",
      "Requirement already satisfied: langcodes<4.0.0,>=3.2.0 in /home/cdsw/.local/lib/python3.11/site-packages (from spacy) (3.4.1)\n",
      "Requirement already satisfied: numpy>=1.19.0 in /home/cdsw/.local/lib/python3.11/site-packages (from spacy) (2.0.2)\n",
      "Requirement already satisfied: language-data>=1.2 in /home/cdsw/.local/lib/python3.11/site-packages (from langcodes<4.0.0,>=3.2.0->spacy) (1.2.0)\n",
      "Requirement already satisfied: annotated-types>=0.4.0 in /home/cdsw/.local/lib/python3.11/site-packages (from pydantic!=1.8,!=1.8.1,<3.0.0,>=1.7.4->spacy) (0.7.0)\n",
      "Requirement already satisfied: pydantic-core==2.20.1 in /home/cdsw/.local/lib/python3.11/site-packages (from pydantic!=1.8,!=1.8.1,<3.0.0,>=1.7.4->spacy) (2.20.1)\n",
      "Requirement already satisfied: typing-extensions>=4.6.1 in /home/cdsw/.local/lib/python3.11/site-packages (from pydantic!=1.8,!=1.8.1,<3.0.0,>=1.7.4->spacy) (4.12.2)\n",
      "Requirement already satisfied: charset-normalizer<4,>=2 in /usr/local/lib/python3.11/site-packages (from requests<3.0.0,>=2.13.0->spacy) (3.3.2)\n",
      "Requirement already satisfied: idna<4,>=2.5 in /home/cdsw/.local/lib/python3.11/site-packages (from requests<3.0.0,>=2.13.0->spacy) (3.10)\n",
      "Requirement already satisfied: urllib3<3,>=1.21.1 in /usr/local/lib/python3.11/site-packages (from requests<3.0.0,>=2.13.0->spacy) (2.1.0)\n",
      "Requirement already satisfied: certifi>=2017.4.17 in /usr/local/lib/python3.11/site-packages (from requests<3.0.0,>=2.13.0->spacy) (2023.11.17)\n",
      "Requirement already satisfied: blis<1.1.0,>=1.0.0 in /home/cdsw/.local/lib/python3.11/site-packages (from thinc<8.4.0,>=8.3.0->spacy) (1.0.1)\n",
      "Requirement already satisfied: confection<1.0.0,>=0.0.1 in /home/cdsw/.local/lib/python3.11/site-packages (from thinc<8.4.0,>=8.3.0->spacy) (0.1.5)\n",
      "Requirement already satisfied: click>=8.0.0 in /home/cdsw/.local/lib/python3.11/site-packages (from typer<1.0.0,>=0.3.0->spacy) (8.1.7)\n",
      "Requirement already satisfied: shellingham>=1.3.0 in /home/cdsw/.local/lib/python3.11/site-packages (from typer<1.0.0,>=0.3.0->spacy) (1.5.4)\n",
      "Requirement already satisfied: rich>=10.11.0 in /home/cdsw/.local/lib/python3.11/site-packages (from typer<1.0.0,>=0.3.0->spacy) (13.8.1)\n",
      "Requirement already satisfied: cloudpathlib<1.0.0,>=0.7.0 in /home/cdsw/.local/lib/python3.11/site-packages (from weasel<0.5.0,>=0.1.0->spacy) (0.19.0)\n",
      "Requirement already satisfied: smart-open<8.0.0,>=5.2.1 in /home/cdsw/.local/lib/python3.11/site-packages (from weasel<0.5.0,>=0.1.0->spacy) (7.0.5)\n",
      "Requirement already satisfied: MarkupSafe>=2.0 in /usr/local/lib/python3.11/site-packages (from jinja2->spacy) (2.1.3)\n",
      "Requirement already satisfied: marisa-trie>=0.7.7 in /home/cdsw/.local/lib/python3.11/site-packages (from language-data>=1.2->langcodes<4.0.0,>=3.2.0->spacy) (1.2.1)\n",
      "Requirement already satisfied: markdown-it-py>=2.2.0 in /home/cdsw/.local/lib/python3.11/site-packages (from rich>=10.11.0->typer<1.0.0,>=0.3.0->spacy) (3.0.0)\n",
      "Requirement already satisfied: pygments<3.0.0,>=2.13.0 in /usr/local/lib/python3.11/site-packages (from rich>=10.11.0->typer<1.0.0,>=0.3.0->spacy) (2.17.2)\n",
      "Requirement already satisfied: wrapt in /home/cdsw/.local/lib/python3.11/site-packages (from smart-open<8.0.0,>=5.2.1->weasel<0.5.0,>=0.1.0->spacy) (1.16.0)\n",
      "Requirement already satisfied: mdurl~=0.1 in /home/cdsw/.local/lib/python3.11/site-packages (from markdown-it-py>=2.2.0->rich>=10.11.0->typer<1.0.0,>=0.3.0->spacy) (0.1.2)\n"
     ]
    }
   ],
   "source": [
    "!pip install spacy"
   ]
  },
  {
   "cell_type": "code",
   "execution_count": 7,
   "id": "d13d791d",
   "metadata": {},
   "outputs": [
    {
     "ename": "OSError",
     "evalue": "[E050] Can't find model 'en_core_web_sm'. It doesn't seem to be a Python package or a valid path to a data directory.",
     "output_type": "error",
     "traceback": [
      "\u001b[0;31m---------------------------------------------------------------------------\u001b[0m",
      "\u001b[0;31mOSError\u001b[0m                                   Traceback (most recent call last)",
      "Cell \u001b[0;32mIn[7], line 2\u001b[0m\n\u001b[1;32m      1\u001b[0m \u001b[38;5;28;01mimport\u001b[39;00m \u001b[38;5;21;01mspacy\u001b[39;00m\n\u001b[0;32m----> 2\u001b[0m nlp \u001b[38;5;241m=\u001b[39m \u001b[43mspacy\u001b[49m\u001b[38;5;241;43m.\u001b[39;49m\u001b[43mload\u001b[49m\u001b[43m(\u001b[49m\u001b[38;5;124;43m\"\u001b[39;49m\u001b[38;5;124;43men_core_web_sm\u001b[39;49m\u001b[38;5;124;43m\"\u001b[39;49m\u001b[43m)\u001b[49m\n\u001b[1;32m      3\u001b[0m \u001b[38;5;28;01mdef\u001b[39;00m \u001b[38;5;21mcapitalize_proper_nouns_nlp\u001b[39m(text):\n\u001b[1;32m      4\u001b[0m \u001b[38;5;250m    \u001b[39m\u001b[38;5;124;03m\"\"\"\u001b[39;00m\n\u001b[1;32m      5\u001b[0m \u001b[38;5;124;03m    Capitalizes proper nouns in the text using spaCy's named entity recognition (NER).\u001b[39;00m\n\u001b[1;32m      6\u001b[0m \u001b[38;5;124;03m    \u001b[39;00m\n\u001b[0;32m   (...)\u001b[0m\n\u001b[1;32m     11\u001b[0m \u001b[38;5;124;03m    - str: Text with proper nouns capitalized.\u001b[39;00m\n\u001b[1;32m     12\u001b[0m \u001b[38;5;124;03m    \"\"\"\u001b[39;00m\n",
      "File \u001b[0;32m~/.local/lib/python3.11/site-packages/spacy/__init__.py:51\u001b[0m, in \u001b[0;36mload\u001b[0;34m(name, vocab, disable, enable, exclude, config)\u001b[0m\n\u001b[1;32m     27\u001b[0m \u001b[38;5;28;01mdef\u001b[39;00m \u001b[38;5;21mload\u001b[39m(\n\u001b[1;32m     28\u001b[0m     name: Union[\u001b[38;5;28mstr\u001b[39m, Path],\n\u001b[1;32m     29\u001b[0m     \u001b[38;5;241m*\u001b[39m,\n\u001b[0;32m   (...)\u001b[0m\n\u001b[1;32m     34\u001b[0m     config: Union[Dict[\u001b[38;5;28mstr\u001b[39m, Any], Config] \u001b[38;5;241m=\u001b[39m util\u001b[38;5;241m.\u001b[39mSimpleFrozenDict(),\n\u001b[1;32m     35\u001b[0m ) \u001b[38;5;241m-\u001b[39m\u001b[38;5;241m>\u001b[39m Language:\n\u001b[1;32m     36\u001b[0m \u001b[38;5;250m    \u001b[39m\u001b[38;5;124;03m\"\"\"Load a spaCy model from an installed package or a local path.\u001b[39;00m\n\u001b[1;32m     37\u001b[0m \n\u001b[1;32m     38\u001b[0m \u001b[38;5;124;03m    name (str): Package name or model path.\u001b[39;00m\n\u001b[0;32m   (...)\u001b[0m\n\u001b[1;32m     49\u001b[0m \u001b[38;5;124;03m    RETURNS (Language): The loaded nlp object.\u001b[39;00m\n\u001b[1;32m     50\u001b[0m \u001b[38;5;124;03m    \"\"\"\u001b[39;00m\n\u001b[0;32m---> 51\u001b[0m     \u001b[38;5;28;01mreturn\u001b[39;00m \u001b[43mutil\u001b[49m\u001b[38;5;241;43m.\u001b[39;49m\u001b[43mload_model\u001b[49m\u001b[43m(\u001b[49m\n\u001b[1;32m     52\u001b[0m \u001b[43m        \u001b[49m\u001b[43mname\u001b[49m\u001b[43m,\u001b[49m\n\u001b[1;32m     53\u001b[0m \u001b[43m        \u001b[49m\u001b[43mvocab\u001b[49m\u001b[38;5;241;43m=\u001b[39;49m\u001b[43mvocab\u001b[49m\u001b[43m,\u001b[49m\n\u001b[1;32m     54\u001b[0m \u001b[43m        \u001b[49m\u001b[43mdisable\u001b[49m\u001b[38;5;241;43m=\u001b[39;49m\u001b[43mdisable\u001b[49m\u001b[43m,\u001b[49m\n\u001b[1;32m     55\u001b[0m \u001b[43m        \u001b[49m\u001b[43menable\u001b[49m\u001b[38;5;241;43m=\u001b[39;49m\u001b[43menable\u001b[49m\u001b[43m,\u001b[49m\n\u001b[1;32m     56\u001b[0m \u001b[43m        \u001b[49m\u001b[43mexclude\u001b[49m\u001b[38;5;241;43m=\u001b[39;49m\u001b[43mexclude\u001b[49m\u001b[43m,\u001b[49m\n\u001b[1;32m     57\u001b[0m \u001b[43m        \u001b[49m\u001b[43mconfig\u001b[49m\u001b[38;5;241;43m=\u001b[39;49m\u001b[43mconfig\u001b[49m\u001b[43m,\u001b[49m\n\u001b[1;32m     58\u001b[0m \u001b[43m    \u001b[49m\u001b[43m)\u001b[49m\n",
      "File \u001b[0;32m~/.local/lib/python3.11/site-packages/spacy/util.py:472\u001b[0m, in \u001b[0;36mload_model\u001b[0;34m(name, vocab, disable, enable, exclude, config)\u001b[0m\n\u001b[1;32m    470\u001b[0m \u001b[38;5;28;01mif\u001b[39;00m name \u001b[38;5;129;01min\u001b[39;00m OLD_MODEL_SHORTCUTS:\n\u001b[1;32m    471\u001b[0m     \u001b[38;5;28;01mraise\u001b[39;00m \u001b[38;5;167;01mIOError\u001b[39;00m(Errors\u001b[38;5;241m.\u001b[39mE941\u001b[38;5;241m.\u001b[39mformat(name\u001b[38;5;241m=\u001b[39mname, full\u001b[38;5;241m=\u001b[39mOLD_MODEL_SHORTCUTS[name]))  \u001b[38;5;66;03m# type: ignore[index]\u001b[39;00m\n\u001b[0;32m--> 472\u001b[0m \u001b[38;5;28;01mraise\u001b[39;00m \u001b[38;5;167;01mIOError\u001b[39;00m(Errors\u001b[38;5;241m.\u001b[39mE050\u001b[38;5;241m.\u001b[39mformat(name\u001b[38;5;241m=\u001b[39mname))\n",
      "\u001b[0;31mOSError\u001b[0m: [E050] Can't find model 'en_core_web_sm'. It doesn't seem to be a Python package or a valid path to a data directory."
     ]
    }
   ],
   "source": [
    "\n",
    "import spacy\n",
    "nlp = spacy.load(\"en_core_web_sm\")\n",
    "def capitalize_proper_nouns_nlp(text):\n",
    "    \"\"\"\n",
    "    Capitalizes proper nouns in the text using spaCy's named entity recognition (NER).\n",
    "    \n",
    "    Args:\n",
    "    - text (str): Input text.\n",
    "    \n",
    "    Returns:\n",
    "    - str: Text with proper nouns capitalized.\n",
    "    \"\"\"\n",
    "    doc = nlp(text)\n",
    "    result = []\n",
    "    for token in doc:\n",
    "        # Capitalize if the token is identified as a proper noun (entity label 'PERSON', 'ORG', 'GPE', etc.)\n",
    "        if token.ent_type_ in ['PERSON', 'ORG', 'GPE']:\n",
    "            result.append(token.text.capitalize())\n",
    "        else:\n",
    "            result.append(token.text)\n",
    "    \n",
    "    return ' '.join(result)\n",
    "\n",
    "# Example text\n",
    "sample_text = \"john works for microsoft and lives in sydney, australia.\"\n",
    "\n",
    "# Capitalize proper nouns using spaCy\n",
    "capitalized_text = capitalize_proper_nouns_nlp(sample_text)\n",
    "print(capitalized_text)\n"
   ]
  },
  {
   "cell_type": "code",
   "execution_count": 1,
   "id": "3f722780",
   "metadata": {},
   "outputs": [
    {
     "name": "stdout",
     "output_type": "stream",
     "text": [
      "{'A', 'B'}\n"
     ]
    }
   ],
   "source": [
    "test_set = set({\"A\", \"B\"})\n",
    "print(test_set)"
   ]
  },
  {
   "cell_type": "code",
   "execution_count": 8,
   "id": "7a1b8259",
   "metadata": {},
   "outputs": [
    {
     "name": "stdout",
     "output_type": "stream",
     "text": [
      "Requirement already satisfied: Spire.Doc in /home/cdsw/.local/lib/python3.11/site-packages (12.7.1)\n",
      "Requirement already satisfied: plum-dispatch==1.7.4 in /home/cdsw/.local/lib/python3.11/site-packages (from Spire.Doc) (1.7.4)\n"
     ]
    }
   ],
   "source": [
    "!pip install Spire.Doc"
   ]
  },
  {
   "cell_type": "code",
   "execution_count": 1,
   "id": "becc161f",
   "metadata": {},
   "outputs": [],
   "source": [
    "import language_tool_python\n",
    "\n",
    "# Initialize LanguageTool with the specific language model (e.g., 'en-US')\n",
    "tool = language_tool_python.LanguageTool('en-US')\n",
    "\n",
    "# Disable specific rules by their IDs\n",
    "tool.disabled_rules = ['MORFOLOGIK_RULE_EN_US']  # Disable spell-checking\n",
    "\n",
    "# Check text\n",
    "text = \"Skystriker and Marko Ramius are part of the story.\"\n",
    "matches = tool.check(text)\n",
    "\n",
    "# Output the results\n",
    "for match in matches:\n",
    "    print(f\"Rule ID: {match.ruleId}, Message: {match.message}\")\n"
   ]
  },
  {
   "cell_type": "code",
   "execution_count": 3,
   "id": "14a9222b",
   "metadata": {},
   "outputs": [
    {
     "name": "stdout",
     "output_type": "stream",
     "text": [
      "Deterministic\n",
      "normal\n"
     ]
    }
   ],
   "source": [
    "import language_tool_python\n",
    "from deterministic_preprocessor import *\n",
    "checker = DeterministicPreprocessor()\n",
    "# Initialize the LanguageTool object\n",
    "tool = language_tool_python.LanguageTool('en-AU')\n",
    "\n",
    "# Disable the rule for spell-checking (e.g., \"MORFOLOGIK_RULE_EN_US\")\n",
    "#checker.tool.disabled_rules = ['MORFOLOGIK_RULE_EN_AU']\n",
    "tool.disabled_rules = ['MORFOLOGIK_RULE_EN_AU']\n",
    "# Check text without this rule\n",
    "text = \"Rear Admiral Tom Kazansky AO, RAN\"\n",
    "print(\"Deterministic\")\n",
    "matches = checker.tool.check(text)\n",
    "for match in matches :\n",
    "    print(f\"Rule ID : {match.ruleId}, Message: {match.message}\")\n",
    "# Output the results\n",
    "for match in matches:\n",
    "    print(match)\n",
    "\n",
    "print(\"normal\")\n",
    "\n",
    "matches = tool.check(text)\n",
    "\n",
    "# Output the results\n",
    "for match in matches:\n",
    "    print(match)"
   ]
  },
  {
   "cell_type": "code",
   "execution_count": 29,
   "id": "34d108c0",
   "metadata": {},
   "outputs": [
    {
     "name": "stdout",
     "output_type": "stream",
     "text": [
      "comment_id:1\n",
      "Added Comment to Document :  This is a para comment\n",
      "comment_id:2\n",
      "Added Comment to Document :  This is a para comment\n",
      "comment_id:3\n",
      "Added Comment to Document :  This is a para comment\n",
      "comment_id:4\n",
      "Added Comment to Document :  This is a para comment\n",
      "comment_id:5\n",
      "Added Comment to Document :  This is a para comment\n",
      "comment_id:6\n",
      "Added Comment to Document :  This is a para comment\n",
      "comment_id:7\n",
      "Added Comment to Document :  This is a para comment\n",
      "comment_id:8\n",
      "Added Comment to Document :  This is a para comment\n",
      "comment_id:9\n",
      "Added Comment to Document :  This is a para comment\n",
      "In TABLE\n",
      "Spelling Errors\n",
      "Grammar Errors\n",
      "This is a mistke in spelling\n",
      "This is examples of grammar mistakes\n",
      "The wether was beautifull on our vacation.\n",
      "Me and her went to the store yesterday.\n",
      "She recieved an accolade for her excelent work.\n",
      " If I would have known, I would have came earlier.\n",
      "comment_id:10\n",
      "Added Comment to Document :  This is a para comment\n",
      "comment_id:11\n",
      "Added Comment to Document :  This is a para comment\n",
      "comment_id:12\n",
      "Added Comment to Document :  This is a para comment\n",
      "comment_id:13\n",
      "Added Comment to Document :  This is a para comment\n",
      "comment_id:14\n",
      "Added Comment to Document :  This is a para comment\n",
      "comment_id:15\n",
      "Added Comment to Document :  This is a para comment\n",
      "comment_id:16\n",
      "Added Comment to Document :  This is a para comment\n",
      "comment_id:17\n",
      "Added Comment to Document :  This is a para comment\n",
      "comment_id:18\n",
      "Added Comment to Document :  This is a para comment\n",
      "In TABLE\n",
      "Spelling Errors*P*T*\n",
      "Grammar Errors*P*T*\n",
      "This is a mistke in spelling*P*T*\n",
      "This is examples of grammar mistakes*P*T*\n",
      "The wether was beautifull on our vacation.*P*T*\n",
      "Me and her went to the store yesterday.*P*T*\n",
      "She recieved an accolade for her excelent work.*P*T*\n",
      " If I would have known, I would have came earlier.*P*T*\n"
     ]
    }
   ],
   "source": [
    "# Assume doc_object is an existing Document object\n",
    "from docx import Document\n",
    "from  doc_formatter import DocumentFormatter\n",
    "formatter = DocumentFormatter.from_doc_name('/home/cdsw/data/simple-word-file-with-table.docx', \"Vish Rajagopalan\")\n",
    "#formatter = DocumentFormatter(mydocx_doc, 'Vish Rajagopalan')\n",
    "\n",
    "# Add a comment to the first paragraph\n",
    "# for para in formatter.document.paragraphs :\n",
    "# #formatter.add_comment(paragraph, \"This is a comment.\")\n",
    "#     formatter.add_comment( paragraph, \"This is a para comment.\")\n",
    "\n",
    "# para_0 = formatter.document.paragraphs[0]\n",
    "# formatter.add_comment( para_0, \"This is a para comment.\")\n",
    "\n",
    "# para_2 = formatter.document.paragraphs[2]\n",
    "# formatter.add_comment( para_2, \"This is a para comment.\")\n",
    "\n",
    "# para_6 = formatter.document.paragraphs[6]\n",
    "# formatter.add_comment( para_6, \"This is a para comment.\")\n",
    "\n",
    "for  _, para in enumerate(formatter.document.paragraphs, start =0):\n",
    "    if len(para.text) != 0:\n",
    "        formatter.add_comment(para, \"This is a para comment\")\n",
    "\n",
    "for table in formatter.document.tables:\n",
    "    print(\"In TABLE\")\n",
    "    for row in table.rows:\n",
    "        for cell in row.cells:\n",
    "            for paragraph in cell.paragraphs:\n",
    "                # Add an asterisk (*) to the end of each cell paragraph\n",
    "                print(paragraph.text)\n",
    "                paragraph.add_run('*P*T*')\n",
    "                if len(paragraph.text) != 0:\n",
    "                    formatter.add_comment(paragraph, \"This is a table comment.\")\n",
    "                \n",
    "for  _, para in enumerate(formatter.document.paragraphs, start =0):\n",
    "    if len(para.text) != 0:\n",
    "        formatter.add_comment(para, \"This is a para comment\")\n",
    "\n",
    "\n",
    "for table in formatter.document.tables:\n",
    "    print(\"In TABLE\")\n",
    "    for row in table.rows:\n",
    "        for cell in row.cells:\n",
    "            for paragraph in cell.paragraphs:\n",
    "                # Add an asterisk (*) to the end of each cell paragraph\n",
    "                print(paragraph.text)\n",
    "                paragraph.add_run('*P*T*')\n",
    "                if len(paragraph.text) != 0:\n",
    "                    formatter.add_comment(paragraph, \"This is a table comment 2\")             \n",
    "\n",
    "# Save the modified document\n",
    "formatter.save('/home/cdsw/data/commented_doc.docx')\n"
   ]
  },
  {
   "cell_type": "code",
   "execution_count": 16,
   "id": "8d99fc89",
   "metadata": {},
   "outputs": [
    {
     "name": "stdout",
     "output_type": "stream",
     "text": [
      "0 HEADING 7\n",
      "1  0\n",
      "2 SECTION 1  10\n",
      "3 I am trying something bold here.  33\n",
      "4  0\n",
      "5  0\n",
      "6 SECTION 2  10\n",
      "7  0\n",
      "8 Product Details 15\n",
      "9  0\n",
      "10 I saw a smaple product. These products is below expected quality. \\n I start to understand what he said is quite     right.  The correct value is 12.5  % and 3   r d position. The time is 10:30 am  197\n",
      "11                    The length of the object is 845mm and cost $1m. The sunrise happens at 0750 EST and visibily is 35 km.      The right way to summarize and favor some advisors is still to be found 198\n",
      "12  0\n",
      "13  0\n",
      "14 Table Section 13\n",
      "15 Some table to be addd latr here by I. I am trying t  o  make a long  setence to see if the LLM is able to capture some of these                       errors such as 2    nd  or 4    th or 6.5   %  196\n",
      "16  0\n",
      "17  0\n",
      "18  0\n"
     ]
    }
   ],
   "source": [
    "for index  ,para in enumerate(formatter.document.paragraphs, start=0):\n",
    "    print(index, para.text, len(para.text))"
   ]
  }
 ],
 "metadata": {
  "kernelspec": {
   "display_name": "Python 3 (ipykernel)",
   "language": "python",
   "name": "python3"
  },
  "language_info": {
   "codemirror_mode": {
    "name": "ipython",
    "version": 3
   },
   "file_extension": ".py",
   "mimetype": "text/x-python",
   "name": "python",
   "nbconvert_exporter": "python",
   "pygments_lexer": "ipython3",
   "version": "3.11.6"
  }
 },
 "nbformat": 4,
 "nbformat_minor": 5
}
