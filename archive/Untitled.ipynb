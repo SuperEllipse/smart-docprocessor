{
 "cells": [
  {
   "cell_type": "code",
   "execution_count": 1,
   "id": "e2232916-b3d3-4ec3-a02d-0ddad4e4a0f2",
   "metadata": {},
   "outputs": [
    {
     "name": "stdout",
     "output_type": "stream",
     "text": [
      "tensor([[0.0060, 0.3016, 0.7693],\n",
      "        [0.4135, 0.8733, 0.9333],\n",
      "        [0.1654, 0.5956, 0.7524],\n",
      "        [0.3252, 0.6821, 0.2880],\n",
      "        [0.6976, 0.0476, 0.0454]])\n"
     ]
    }
   ],
   "source": [
    "import torch\n",
    "x = torch.rand(5, 3)\n",
    "print(x)"
   ]
  },
  {
   "cell_type": "code",
   "execution_count": null,
   "id": "d3b63b97-7ba5-4b62-8203-c97d718c63a2",
   "metadata": {},
   "outputs": [],
   "source": []
  }
 ],
 "metadata": {
  "kernelspec": {
   "display_name": "Python 3 (ipykernel)",
   "language": "python",
   "name": "python3"
  },
  "language_info": {
   "codemirror_mode": {
    "name": "ipython",
    "version": 3
   },
   "file_extension": ".py",
   "mimetype": "text/x-python",
   "name": "python",
   "nbconvert_exporter": "python",
   "pygments_lexer": "ipython3",
   "version": "3.10.13"
  }
 },
 "nbformat": 4,
 "nbformat_minor": 5
}
